{
 "cells": [
  {
   "cell_type": "markdown",
   "id": "41385f98",
   "metadata": {},
   "source": [
    "### Check for the execustion time for this notebook in bottom of the page\n",
    "#### 2078.7129650115967 seconds approx"
   ]
  },
  {
   "cell_type": "code",
   "execution_count": 1,
   "id": "663e684e",
   "metadata": {},
   "outputs": [],
   "source": [
    "# import and start time\n",
    "import time\n",
    "start_time = time.time()"
   ]
  },
  {
   "cell_type": "markdown",
   "id": "66712f5e",
   "metadata": {},
   "source": [
    "## Views about the problem statement\n",
    "The problem statement involves developing a machine learning model to predict fraudulent transactions for a financial company and using insights from the model to create an actionable plan. This is a binary classification problem with \"isFraud\" as the target column, using the provided \"Fraud\" dataframe. \n",
    "\n",
    "The dataset includes the following columns: step, type, amount, nameOrig, oldbalanceOrg, newbalanceOrig, nameDest, oldbalanceDest, newbalanceDest, isFraud, and isFlaggedFraud. The target variable \"isFraud\" is a binary categorical variable, which means we need to predict whether a transaction is \"Fraudulent\" (1) or \"Non-Fraudulent\" (0)."
   ]
  },
  {
   "cell_type": "markdown",
   "id": "3ff0b72f",
   "metadata": {},
   "source": [
    "## My approaches to solving this task\n",
    "### Q1. Data cleaning including missing values, outliers and multi-collinearity.\n",
    "- **1.1 Data Understanding and Tidying:-** First, to understand the given dataframe \"isFraud\" which contain financial datas.\n",
    "\n",
    "- **1.2 Data Cleaning and Preprocessing:-** Perform the EDD (Extended Data Dictionary) process to check for missing values and Explore relationships between features and the target variable. As target variable is categorical so best preferal plot to cehck for outliers is box-plot and count-plots to identify the number for categories.\n",
    "\n",
    "### Q3. How did you select variables to be included in the model?\n",
    "- **3.1 Exploratory Data Analysis (EDA):-** EDD treatment for missing values and outliers, if required and also to create dummies values for categorical variables.\n",
    "\n",
    "- **3.2 Splitting of datas for training model:-** splitting into dependent and independent variables, and fruthur into train-test datasets. \n",
    "\n",
    "### Q2. Describe your fraud detection model in elaboration.\n",
    "- **2.1 Model Selection:-** As the problem involves predicting a categorical target variable, selecting models such as Logistic Regression, Linear Discriminant Analysis, and K-Nearest Neighbors is suitable.\n",
    "\n",
    "- **2.2 Ensemble methods:-** Ensemble methods as-Bagging, Random Forest classification, Gradient Boosting, AdaBoost, and XGBoost can handle both categorical and continuous target variables. Therefore, I will also use these above mentioned models to train and predict the \"isFraud\" for upcoming days.\n",
    "\n",
    "### Q4. Demonstrate the performance of the model by using best set of tools.\n",
    "- **4.1 Model Evaluation:-** After training with the selected model, check for performance evaluation metrics like Mean Squared Error (MSE), Mean Absolute Error (MAE), confusion matrix, accuracy_score, and check for the overfitting, and will select the best-performing model among them.\n",
    "\n",
    "- **4.2 Prediction and conclusion:-** Based on the above step will find the best-fit model for the problem statement and also conclude with the accuracy of model fitting."
   ]
  },
  {
   "cell_type": "markdown",
   "id": "dcc213a3",
   "metadata": {},
   "source": [
    "### 1.1 Data Understanding and Tidying\n",
    "##### 1.1.1 Importing Numpy, Pandas, Seaborn, and matplot libraries for data intrepretation and visualization"
   ]
  },
  {
   "cell_type": "code",
   "execution_count": 2,
   "id": "503204cc",
   "metadata": {},
   "outputs": [],
   "source": [
    "import numpy as np     # Importing Numpy library \n",
    "import pandas as pd    # Importing Pandas library \n",
    "import seaborn as sns  # Importing Seaborn library \n",
    "import matplotlib.pyplot as plt  # Importing Matplot library "
   ]
  },
  {
   "cell_type": "markdown",
   "id": "38ee7588",
   "metadata": {},
   "source": [
    "##### 1.1.2 Loading and printing Fraud prediction dataframe using pandas library"
   ]
  },
  {
   "cell_type": "code",
   "execution_count": 3,
   "id": "b0aa4f9d",
   "metadata": {},
   "outputs": [
    {
     "name": "stdout",
     "output_type": "stream",
     "text": [
      "\u001b[1m Fraud \u001b[0m \n",
      "          step      type      amount     nameOrig  oldbalanceOrg  \\\n",
      "0           1   PAYMENT     9839.64  C1231006815      170136.00   \n",
      "1           1   PAYMENT     1864.28  C1666544295       21249.00   \n",
      "2           1  TRANSFER      181.00  C1305486145         181.00   \n",
      "3           1  CASH_OUT      181.00   C840083671         181.00   \n",
      "4           1   PAYMENT    11668.14  C2048537720       41554.00   \n",
      "...       ...       ...         ...          ...            ...   \n",
      "6362615   743  CASH_OUT   339682.13   C786484425      339682.13   \n",
      "6362616   743  TRANSFER  6311409.28  C1529008245     6311409.28   \n",
      "6362617   743  CASH_OUT  6311409.28  C1162922333     6311409.28   \n",
      "6362618   743  TRANSFER   850002.52  C1685995037      850002.52   \n",
      "6362619   743  CASH_OUT   850002.52  C1280323807      850002.52   \n",
      "\n",
      "         newbalanceOrig     nameDest  oldbalanceDest  newbalanceDest  isFraud  \\\n",
      "0             160296.36  M1979787155            0.00            0.00        0   \n",
      "1              19384.72  M2044282225            0.00            0.00        0   \n",
      "2                  0.00   C553264065            0.00            0.00        1   \n",
      "3                  0.00    C38997010        21182.00            0.00        1   \n",
      "4              29885.86  M1230701703            0.00            0.00        0   \n",
      "...                 ...          ...             ...             ...      ...   \n",
      "6362615            0.00   C776919290            0.00       339682.13        1   \n",
      "6362616            0.00  C1881841831            0.00            0.00        1   \n",
      "6362617            0.00  C1365125890        68488.84      6379898.11        1   \n",
      "6362618            0.00  C2080388513            0.00            0.00        1   \n",
      "6362619            0.00   C873221189      6510099.11      7360101.63        1   \n",
      "\n",
      "         isFlaggedFraud  \n",
      "0                     0  \n",
      "1                     0  \n",
      "2                     0  \n",
      "3                     0  \n",
      "4                     0  \n",
      "...                 ...  \n",
      "6362615               0  \n",
      "6362616               0  \n",
      "6362617               0  \n",
      "6362618               0  \n",
      "6362619               0  \n",
      "\n",
      "[6362620 rows x 11 columns] \n",
      "\n"
     ]
    }
   ],
   "source": [
    "# Loading and printing Fraud dataset excel file\n",
    "Fraud = pd.read_csv('C:/Users/Zoom/Desktop/Fraud.csv', header=0)\n",
    "print((\"\\033[1m Fraud \\033[0m\"), \"\\n\", Fraud, \"\\n\")"
   ]
  },
  {
   "cell_type": "markdown",
   "id": "27cf65c3",
   "metadata": {},
   "source": [
    "### 1.2 Data Cleaning and Preprocessing\n",
    "##### 1.2.1 EDD (Extended Data Dictionary) process to check for missing values"
   ]
  },
  {
   "cell_type": "code",
   "execution_count": 4,
   "id": "43f04c23",
   "metadata": {},
   "outputs": [
    {
     "name": "stdout",
     "output_type": "stream",
     "text": [
      "<class 'pandas.core.frame.DataFrame'>\n",
      "RangeIndex: 6362620 entries, 0 to 6362619\n",
      "Data columns (total 11 columns):\n",
      " #   Column          Dtype  \n",
      "---  ------          -----  \n",
      " 0   step            int64  \n",
      " 1   type            object \n",
      " 2   amount          float64\n",
      " 3   nameOrig        object \n",
      " 4   oldbalanceOrg   float64\n",
      " 5   newbalanceOrig  float64\n",
      " 6   nameDest        object \n",
      " 7   oldbalanceDest  float64\n",
      " 8   newbalanceDest  float64\n",
      " 9   isFraud         int64  \n",
      " 10  isFlaggedFraud  int64  \n",
      "dtypes: float64(5), int64(3), object(3)\n",
      "memory usage: 534.0+ MB\n"
     ]
    }
   ],
   "source": [
    "# To get the information about the \"Fraud\" dataframe, including data types, non-null counts, and memory usage\n",
    "Fraud.info()"
   ]
  },
  {
   "cell_type": "code",
   "execution_count": 5,
   "id": "44609726",
   "metadata": {},
   "outputs": [
    {
     "name": "stdout",
     "output_type": "stream",
     "text": [
      "Missing Values Counts:\n",
      "step              0\n",
      "type              0\n",
      "amount            0\n",
      "nameOrig          0\n",
      "oldbalanceOrg     0\n",
      "newbalanceOrig    0\n",
      "nameDest          0\n",
      "oldbalanceDest    0\n",
      "newbalanceDest    0\n",
      "isFraud           0\n",
      "isFlaggedFraud    0\n",
      "dtype: int64\n"
     ]
    }
   ],
   "source": [
    "# Check for missing values\n",
    "missing_values = Fraud.isnull().sum()\n",
    "\n",
    "# Display missing values counts\n",
    "print(\"Missing Values Counts:\")\n",
    "print(missing_values)"
   ]
  },
  {
   "cell_type": "code",
   "execution_count": 6,
   "id": "8bbc2fc3",
   "metadata": {},
   "outputs": [
    {
     "data": {
      "text/html": [
       "<div>\n",
       "<style scoped>\n",
       "    .dataframe tbody tr th:only-of-type {\n",
       "        vertical-align: middle;\n",
       "    }\n",
       "\n",
       "    .dataframe tbody tr th {\n",
       "        vertical-align: top;\n",
       "    }\n",
       "\n",
       "    .dataframe thead th {\n",
       "        text-align: right;\n",
       "    }\n",
       "</style>\n",
       "<table border=\"1\" class=\"dataframe\">\n",
       "  <thead>\n",
       "    <tr style=\"text-align: right;\">\n",
       "      <th></th>\n",
       "      <th>step</th>\n",
       "      <th>amount</th>\n",
       "      <th>oldbalanceOrg</th>\n",
       "      <th>newbalanceOrig</th>\n",
       "      <th>oldbalanceDest</th>\n",
       "      <th>newbalanceDest</th>\n",
       "      <th>isFraud</th>\n",
       "      <th>isFlaggedFraud</th>\n",
       "    </tr>\n",
       "  </thead>\n",
       "  <tbody>\n",
       "    <tr>\n",
       "      <th>count</th>\n",
       "      <td>6.362620e+06</td>\n",
       "      <td>6.362620e+06</td>\n",
       "      <td>6.362620e+06</td>\n",
       "      <td>6.362620e+06</td>\n",
       "      <td>6.362620e+06</td>\n",
       "      <td>6.362620e+06</td>\n",
       "      <td>6.362620e+06</td>\n",
       "      <td>6.362620e+06</td>\n",
       "    </tr>\n",
       "    <tr>\n",
       "      <th>mean</th>\n",
       "      <td>2.433972e+02</td>\n",
       "      <td>1.798619e+05</td>\n",
       "      <td>8.338831e+05</td>\n",
       "      <td>8.551137e+05</td>\n",
       "      <td>1.100702e+06</td>\n",
       "      <td>1.224996e+06</td>\n",
       "      <td>1.290820e-03</td>\n",
       "      <td>2.514687e-06</td>\n",
       "    </tr>\n",
       "    <tr>\n",
       "      <th>std</th>\n",
       "      <td>1.423320e+02</td>\n",
       "      <td>6.038582e+05</td>\n",
       "      <td>2.888243e+06</td>\n",
       "      <td>2.924049e+06</td>\n",
       "      <td>3.399180e+06</td>\n",
       "      <td>3.674129e+06</td>\n",
       "      <td>3.590480e-02</td>\n",
       "      <td>1.585775e-03</td>\n",
       "    </tr>\n",
       "    <tr>\n",
       "      <th>min</th>\n",
       "      <td>1.000000e+00</td>\n",
       "      <td>0.000000e+00</td>\n",
       "      <td>0.000000e+00</td>\n",
       "      <td>0.000000e+00</td>\n",
       "      <td>0.000000e+00</td>\n",
       "      <td>0.000000e+00</td>\n",
       "      <td>0.000000e+00</td>\n",
       "      <td>0.000000e+00</td>\n",
       "    </tr>\n",
       "    <tr>\n",
       "      <th>25%</th>\n",
       "      <td>1.560000e+02</td>\n",
       "      <td>1.338957e+04</td>\n",
       "      <td>0.000000e+00</td>\n",
       "      <td>0.000000e+00</td>\n",
       "      <td>0.000000e+00</td>\n",
       "      <td>0.000000e+00</td>\n",
       "      <td>0.000000e+00</td>\n",
       "      <td>0.000000e+00</td>\n",
       "    </tr>\n",
       "    <tr>\n",
       "      <th>50%</th>\n",
       "      <td>2.390000e+02</td>\n",
       "      <td>7.487194e+04</td>\n",
       "      <td>1.420800e+04</td>\n",
       "      <td>0.000000e+00</td>\n",
       "      <td>1.327057e+05</td>\n",
       "      <td>2.146614e+05</td>\n",
       "      <td>0.000000e+00</td>\n",
       "      <td>0.000000e+00</td>\n",
       "    </tr>\n",
       "    <tr>\n",
       "      <th>75%</th>\n",
       "      <td>3.350000e+02</td>\n",
       "      <td>2.087215e+05</td>\n",
       "      <td>1.073152e+05</td>\n",
       "      <td>1.442584e+05</td>\n",
       "      <td>9.430367e+05</td>\n",
       "      <td>1.111909e+06</td>\n",
       "      <td>0.000000e+00</td>\n",
       "      <td>0.000000e+00</td>\n",
       "    </tr>\n",
       "    <tr>\n",
       "      <th>max</th>\n",
       "      <td>7.430000e+02</td>\n",
       "      <td>9.244552e+07</td>\n",
       "      <td>5.958504e+07</td>\n",
       "      <td>4.958504e+07</td>\n",
       "      <td>3.560159e+08</td>\n",
       "      <td>3.561793e+08</td>\n",
       "      <td>1.000000e+00</td>\n",
       "      <td>1.000000e+00</td>\n",
       "    </tr>\n",
       "  </tbody>\n",
       "</table>\n",
       "</div>"
      ],
      "text/plain": [
       "               step        amount  oldbalanceOrg  newbalanceOrig  \\\n",
       "count  6.362620e+06  6.362620e+06   6.362620e+06    6.362620e+06   \n",
       "mean   2.433972e+02  1.798619e+05   8.338831e+05    8.551137e+05   \n",
       "std    1.423320e+02  6.038582e+05   2.888243e+06    2.924049e+06   \n",
       "min    1.000000e+00  0.000000e+00   0.000000e+00    0.000000e+00   \n",
       "25%    1.560000e+02  1.338957e+04   0.000000e+00    0.000000e+00   \n",
       "50%    2.390000e+02  7.487194e+04   1.420800e+04    0.000000e+00   \n",
       "75%    3.350000e+02  2.087215e+05   1.073152e+05    1.442584e+05   \n",
       "max    7.430000e+02  9.244552e+07   5.958504e+07    4.958504e+07   \n",
       "\n",
       "       oldbalanceDest  newbalanceDest       isFraud  isFlaggedFraud  \n",
       "count    6.362620e+06    6.362620e+06  6.362620e+06    6.362620e+06  \n",
       "mean     1.100702e+06    1.224996e+06  1.290820e-03    2.514687e-06  \n",
       "std      3.399180e+06    3.674129e+06  3.590480e-02    1.585775e-03  \n",
       "min      0.000000e+00    0.000000e+00  0.000000e+00    0.000000e+00  \n",
       "25%      0.000000e+00    0.000000e+00  0.000000e+00    0.000000e+00  \n",
       "50%      1.327057e+05    2.146614e+05  0.000000e+00    0.000000e+00  \n",
       "75%      9.430367e+05    1.111909e+06  0.000000e+00    0.000000e+00  \n",
       "max      3.560159e+08    3.561793e+08  1.000000e+00    1.000000e+00  "
      ]
     },
     "execution_count": 6,
     "metadata": {},
     "output_type": "execute_result"
    }
   ],
   "source": [
    "# To get the descriptive statistics of the \"Fraud\" numeric columns\n",
    "Fraud.describe()"
   ]
  },
  {
   "cell_type": "markdown",
   "id": "2eaaefdc",
   "metadata": {},
   "source": [
    "##### 1.2.2  By using box-plot we can able to check for outliers for continous variables"
   ]
  },
  {
   "cell_type": "code",
   "execution_count": 7,
   "id": "0476ca02",
   "metadata": {},
   "outputs": [
    {
     "data": {
      "image/png": "[encoded data removed]",
      "text/plain": [
       "<Figure size 640x480 with 1 Axes>"
      ]
     },
     "metadata": {},
     "output_type": "display_data"
    }
   ],
   "source": [
    "# To visualize the distribution of 'step' in the \"Fraud\" dataset and also to check for the outliers\n",
    "sns.boxplot(y='step', data=Fraud)\n",
    "plt.title('Box Plot for \"step\" before outlier treatment')\n",
    "plt.show()"
   ]
  },
  {
   "cell_type": "code",
   "execution_count": 8,
   "id": "00377393",
   "metadata": {},
   "outputs": [
    {
     "data": {
      "image/png": "[encoded data removed]",
      "text/plain": [
       "<Figure size 640x480 with 1 Axes>"
      ]
     },
     "metadata": {},
     "output_type": "display_data"
    }
   ],
   "source": [
    "# To visualize the distribution of 'amount' in the \"Fraud\" dataset and also to check for the outliers\n",
    "sns.boxplot(y='amount', data=Fraud)\n",
    "plt.title('Box Plot for \"amount\" before outlier treatment')\n",
    "plt.show()"
   ]
  },
  {
   "cell_type": "code",
   "execution_count": 9,
   "id": "a0c75660",
   "metadata": {},
   "outputs": [
    {
     "data": {
      "image/png": "[encoded data removed]",
      "text/plain": [
       "<Figure size 640x480 with 1 Axes>"
      ]
     },
     "metadata": {},
     "output_type": "display_data"
    }
   ],
   "source": [
    "# To visualize the distribution of 'oldbalanceOrg' in the \"Fraud\" dataset and also to check for the outliers\n",
    "sns.boxplot(y='oldbalanceOrg', data=Fraud)\n",
    "plt.title('Box Plot for \"oldbalanceOrg\" before outlier treatment')\n",
    "plt.show()"
   ]
  },
  {
   "cell_type": "code",
   "execution_count": 10,
   "id": "1f65faa9",
   "metadata": {},
   "outputs": [
    {
     "data": {
      "image/png": "[encoded data removed]",
      "text/plain": [
       "<Figure size 640x480 with 1 Axes>"
      ]
     },
     "metadata": {},
     "output_type": "display_data"
    }
   ],
   "source": [
    "# To visualize the distribution of 'newbalanceOrig' in the \"Fraud\" dataset and also to check for the outliers\n",
    "sns.boxplot(y='newbalanceOrig', data=Fraud)\n",
    "plt.title('Box Plot for \"newbalanceOrig\" before outlier treatment')\n",
    "plt.show()"
   ]
  },
  {
   "cell_type": "code",
   "execution_count": 11,
   "id": "80d66785",
   "metadata": {},
   "outputs": [
    {
     "data": {
      "image/png": "[encoded data removed]",
      "text/plain": [
       "<Figure size 640x480 with 1 Axes>"
      ]
     },
     "metadata": {},
     "output_type": "display_data"
    }
   ],
   "source": [
    "# To visualize the distribution of 'oldbalanceDest' in the \"Fraud\" dataset and also to check for the outliers\n",
    "sns.boxplot(y='oldbalanceDest', data=Fraud)\n",
    "plt.title('Box Plot for \"oldbalanceDest\" before outlier treatment')\n",
    "plt.show()"
   ]
  },
  {
   "cell_type": "code",
   "execution_count": 12,
   "id": "46091d7a",
   "metadata": {},
   "outputs": [
    {
     "data": {
      "image/png": "[encoded data removed]",
      "text/plain": [
       "<Figure size 640x480 with 1 Axes>"
      ]
     },
     "metadata": {},
     "output_type": "display_data"
    }
   ],
   "source": [
    "# To visualize the distribution of 'newbalanceDest' in the \"Fraud\" dataset and also to check for the outliers\n",
    "sns.boxplot(y='newbalanceDest', data=Fraud)\n",
    "plt.title('Box Plot for \"newbalanceDest\" before outlier treatment')\n",
    "plt.show()"
   ]
  },
  {
   "cell_type": "markdown",
   "id": "60939f2b",
   "metadata": {},
   "source": [
    "##### 1.2.3 Count-plot to analyse the total counts of categorical varaibles in  \"Fraud\" dataframe"
   ]
  },
  {
   "cell_type": "code",
   "execution_count": 13,
   "id": "cd18fda9",
   "metadata": {},
   "outputs": [
    {
     "data": {
      "text/plain": [
       "<Axes: xlabel='type', ylabel='count'>"
      ]
     },
     "execution_count": 13,
     "metadata": {},
     "output_type": "execute_result"
    },
    {
     "data": {
      "image/png": "[encoded data removed]",
      "text/plain": [
       "<Figure size 640x480 with 1 Axes>"
      ]
     },
     "metadata": {},
     "output_type": "display_data"
    }
   ],
   "source": [
    "# To check the counts of observations in each categorical \"type\" bins using bar graph\n",
    "sns.countplot(x='type', data = Fraud)"
   ]
  },
  {
   "cell_type": "code",
   "execution_count": 14,
   "id": "b6ddd0ef",
   "metadata": {},
   "outputs": [
    {
     "name": "stdout",
     "output_type": "stream",
     "text": [
      "isFraud\n",
      "0    6354407\n",
      "1       8213\n",
      "Name: count, dtype: int64\n"
     ]
    }
   ],
   "source": [
    "# Count the observations in each 'isFraud' bin\n",
    "isFraud_counts = Fraud['isFraud'].value_counts()\n",
    "\n",
    "# Display the counts\n",
    "print(isFraud_counts)"
   ]
  },
  {
   "cell_type": "code",
   "execution_count": 15,
   "id": "8c2a60a6",
   "metadata": {},
   "outputs": [
    {
     "name": "stdout",
     "output_type": "stream",
     "text": [
      "isFlaggedFraud\n",
      "0    6362604\n",
      "1         16\n",
      "Name: count, dtype: int64\n"
     ]
    }
   ],
   "source": [
    "# Count the observations in each 'isFlaggedFraud' bin\n",
    "isFlaggedFraud_counts = Fraud['isFlaggedFraud'].value_counts()\n",
    "\n",
    "# Display the counts\n",
    "print(isFlaggedFraud_counts)"
   ]
  },
  {
   "cell_type": "markdown",
   "id": "a3847c86",
   "metadata": {},
   "source": [
    "### Observations after EDD on provided dataset\n",
    "##### For the missing value obsevation for different columns\n",
    "&rightarrow; There are No missing values in any of the columns of Fraud dataset, so no missing value treatment is required.\n",
    "\n",
    "##### For the outliers in varaiable, box-plots gives proper visualizatuions\n",
    "&rightarrow; There are outliers showing in \"step\", \"amount\", \"oldbalanceOrg\", \"newbalanceOrig\", \"oldbalanceDest\", newbalanceDest\".\n",
    "\n",
    "- **Note 1: For the 'step' column, as it represents days over a particular duration, but for avoiding overfitting otlier treatment is required.**\n",
    "\n",
    "- **Note 2: For the 'amount', 'oldbalanceOrg', 'newbalanceOrig', 'oldbalanceDest', and 'newbalanceDest' columns, as they represent balances (money), they can anything depending on the customers. But for avoiding overfitting will do outliers treatment.**\n",
    "\n",
    "##### For the count of categorical datas, count-plots gives proper visualizatuions\n",
    "&rightarrow; \"PAYMENT\" and \"CASH_OUT\" types are more and \"DEBIT\" is very less in compare to others types.\n",
    "\n",
    "&rightarrow; There are \"6354407\" instances where 'isFraud' is False and \"8213\" instances where 'isFraud' is True.\n",
    "\n",
    "&rightarrow; There are \"6362604\" instances where 'isFraud' is False and \"16\" instances where 'isFraud' is True.\"\n",
    "\n",
    "##### \"nameOrig\", and \"nameDest\" columns contain UCI\n",
    "&rightarrow; \"nameOrig\", and \"nameDest\" are contains the unique customer identifier."
   ]
  },
  {
   "cell_type": "markdown",
   "id": "0e228c29",
   "metadata": {},
   "source": [
    "### 3.1 Exploratory Data Analysis (EDA)\n",
    "#### 3.1.1 Outliers treatement by using box-plot."
   ]
  },
  {
   "cell_type": "code",
   "execution_count": 16,
   "id": "55d22bea",
   "metadata": {},
   "outputs": [
    {
     "name": "stdout",
     "output_type": "stream",
     "text": [
      "Lower Bound: -112.5, Upper Bound: 603.5\n"
     ]
    },
    {
     "data": {
      "image/png": "[encoded data removed]",
      "text/plain": [
       "<Figure size 640x480 with 1 Axes>"
      ]
     },
     "metadata": {},
     "output_type": "display_data"
    }
   ],
   "source": [
    "# define function for outlier treatment using box-plot concept\n",
    "def treat_outliers(data, column):\n",
    "\n",
    "    # Calculate Q1 (25th-percentile) and Q3 (75th-percentile)\n",
    "    Q1 = data[column].quantile(0.25)\n",
    "    Q3 = data[column].quantile(0.75)\n",
    "\n",
    "    # Calculate IQR\n",
    "    IQR = Q3-Q1\n",
    "\n",
    "    # Define the bounds for identifying outliers with standard threshold=1.5\n",
    "    lower_bound = Q1-1.5*IQR\n",
    "    upper_bound = Q3+1.5*IQR\n",
    "    # print lower bound and upper bound\n",
    "    print(f\"Lower Bound: {lower_bound}, Upper Bound: {upper_bound}\")\n",
    "\n",
    "    # Cap the outliers\n",
    "    data[column] = data[column].apply(lambda x: lower_bound if x < lower_bound else (upper_bound if x > upper_bound else x))\n",
    "    return data\n",
    "\n",
    "# Treat outliers in \"step\" column\n",
    "Fraud = treat_outliers(Fraud, 'step')\n",
    "\n",
    "# Verify the outlier treatments for \"step\" \n",
    "sns.boxplot(y='step', data=Fraud)  \n",
    "plt.title('Box Plot for step After Outlier Treatment')\n",
    "plt.show()"
   ]
  },
  {
   "cell_type": "code",
   "execution_count": 17,
   "id": "8a2fd8cd",
   "metadata": {},
   "outputs": [
    {
     "name": "stdout",
     "output_type": "stream",
     "text": [
      "Lower Bound: -279608.29125, Upper Bound: 501719.33875\n"
     ]
    },
    {
     "data": {
      "image/png": "[encoded data removed]",
      "text/plain": [
       "<Figure size 640x480 with 1 Axes>"
      ]
     },
     "metadata": {},
     "output_type": "display_data"
    }
   ],
   "source": [
    "# Treat outliers in \"amount\" column\n",
    "Fraud = treat_outliers(Fraud, 'amount')\n",
    "\n",
    "# Verify the outlier treatments for \"amount\" \n",
    "sns.boxplot(y='amount', data=Fraud)  \n",
    "plt.title('Box Plot for amount After Outlier Treatment')\n",
    "plt.show()"
   ]
  },
  {
   "cell_type": "code",
   "execution_count": 18,
   "id": "cfed6777",
   "metadata": {},
   "outputs": [
    {
     "name": "stdout",
     "output_type": "stream",
     "text": [
      "Lower Bound: -160972.7625, Upper Bound: 268287.9375\n"
     ]
    },
    {
     "data": {
      "image/png": "[encoded data removed]",
      "text/plain": [
       "<Figure size 640x480 with 1 Axes>"
      ]
     },
     "metadata": {},
     "output_type": "display_data"
    }
   ],
   "source": [
    "# Treat outliers in \"oldbalanceOrg\" column\n",
    "Fraud = treat_outliers(Fraud, 'oldbalanceOrg')\n",
    "\n",
    "# Verify the outlier treatments for \"oldbalanceOrg\" \n",
    "sns.boxplot(y='oldbalanceOrg', data=Fraud)  \n",
    "plt.title('Box Plot for oldbalanceOrg After Outlier Treatment')\n",
    "plt.show()"
   ]
  },
  {
   "cell_type": "code",
   "execution_count": 19,
   "id": "203c8465",
   "metadata": {},
   "outputs": [
    {
     "name": "stdout",
     "output_type": "stream",
     "text": [
      "Lower Bound: -216387.615, Upper Bound: 360646.025\n"
     ]
    },
    {
     "data": {
      "image/png": "[encoded data removed]",
      "text/plain": [
       "<Figure size 640x480 with 1 Axes>"
      ]
     },
     "metadata": {},
     "output_type": "display_data"
    }
   ],
   "source": [
    "# Treat outliers in \"newbalanceOrig\" column\n",
    "Fraud = treat_outliers(Fraud, 'newbalanceOrig')\n",
    "\n",
    "# Verify the outlier treatments for \"newbalanceOrig\" \n",
    "sns.boxplot(y='newbalanceOrig', data=Fraud)  \n",
    "plt.title('Box Plot for newbalanceOrig After Outlier Treatment')\n",
    "plt.show()"
   ]
  },
  {
   "cell_type": "code",
   "execution_count": 20,
   "id": "ba1d19d2",
   "metadata": {},
   "outputs": [
    {
     "name": "stdout",
     "output_type": "stream",
     "text": [
      "Lower Bound: -1414555.06125, Upper Bound: 2357591.76875\n"
     ]
    },
    {
     "data": {
      "image/png": "[encoded data removed]",
      "text/plain": [
       "<Figure size 640x480 with 1 Axes>"
      ]
     },
     "metadata": {},
     "output_type": "display_data"
    }
   ],
   "source": [
    "# Treat outliers in \"oldbalanceDest\" column\n",
    "Fraud = treat_outliers(Fraud, 'oldbalanceDest')\n",
    "\n",
    "# Verify the outlier treatments for \"oldbalanceDest\" \n",
    "sns.boxplot(y='oldbalanceDest', data=Fraud)  \n",
    "plt.title('Box Plot for oldbalanceDest After Outlier Treatment')\n",
    "plt.show()"
   ]
  },
  {
   "cell_type": "code",
   "execution_count": 21,
   "id": "b8daa8ee",
   "metadata": {},
   "outputs": [
    {
     "name": "stdout",
     "output_type": "stream",
     "text": [
      "Lower Bound: -1667863.875, Upper Bound: 2779773.125\n"
     ]
    },
    {
     "data": {
      "image/png": "[encoded data removed]",
      "text/plain": [
       "<Figure size 640x480 with 1 Axes>"
      ]
     },
     "metadata": {},
     "output_type": "display_data"
    }
   ],
   "source": [
    "# Treat outliers in \"newbalanceDest\" column\n",
    "Fraud = treat_outliers(Fraud, 'newbalanceDest')\n",
    "\n",
    "# Verify the outlier treatments for \"newbalanceDest\" \n",
    "sns.boxplot(y='newbalanceDest', data=Fraud)  \n",
    "plt.title('Box Plot for newbalanceDest After Outlier Treatment')\n",
    "plt.show()"
   ]
  },
  {
   "cell_type": "markdown",
   "id": "983ea086",
   "metadata": {},
   "source": [
    "##### 3.1.2 Deleting  \"nameOrig\", and \"nameDest\" columns as it contains unique customer identifier."
   ]
  },
  {
   "cell_type": "code",
   "execution_count": 22,
   "id": "13bb015a",
   "metadata": {},
   "outputs": [],
   "source": [
    "# Delete the 'nameOrig' column from the 'Fraud' dataframe\n",
    "del Fraud[\"nameOrig\"]"
   ]
  },
  {
   "cell_type": "code",
   "execution_count": 23,
   "id": "60530620",
   "metadata": {},
   "outputs": [],
   "source": [
    "# Delete the 'nameDest' column from the 'Fraud' dataframe\n",
    "del Fraud[\"nameDest\"]"
   ]
  },
  {
   "cell_type": "markdown",
   "id": "3bcfd112",
   "metadata": {},
   "source": [
    "##### 3.1.3 Creating dummies values for categorical variables"
   ]
  },
  {
   "cell_type": "code",
   "execution_count": 24,
   "id": "a457d53f",
   "metadata": {},
   "outputs": [],
   "source": [
    "# converts the categorical variables in the DataFrame \"Fraud\" into dummy variables and convert it into float data type\n",
    "Fraud = pd.get_dummies(Fraud, columns=[\"type\", \"isFraud\", \"isFlaggedFraud\"], drop_first=True).astype(float)"
   ]
  },
  {
   "cell_type": "code",
   "execution_count": 25,
   "id": "dba4f093",
   "metadata": {},
   "outputs": [
    {
     "name": "stdout",
     "output_type": "stream",
     "text": [
      "<class 'pandas.core.frame.DataFrame'>\n",
      "RangeIndex: 6362620 entries, 0 to 6362619\n",
      "Data columns (total 12 columns):\n",
      " #   Column            Dtype  \n",
      "---  ------            -----  \n",
      " 0   step              float64\n",
      " 1   amount            float64\n",
      " 2   oldbalanceOrg     float64\n",
      " 3   newbalanceOrig    float64\n",
      " 4   oldbalanceDest    float64\n",
      " 5   newbalanceDest    float64\n",
      " 6   type_CASH_OUT     float64\n",
      " 7   type_DEBIT        float64\n",
      " 8   type_PAYMENT      float64\n",
      " 9   type_TRANSFER     float64\n",
      " 10  isFraud_1         float64\n",
      " 11  isFlaggedFraud_1  float64\n",
      "dtypes: float64(12)\n",
      "memory usage: 582.5 MB\n"
     ]
    }
   ],
   "source": [
    "# To get the information about the \"Fraud\" dataframe, including data types, and memory usage after creating dummies value\n",
    "Fraud.info()"
   ]
  },
  {
   "cell_type": "code",
   "execution_count": 26,
   "id": "ba516990",
   "metadata": {},
   "outputs": [
    {
     "data": {
      "text/html": [
       "<div>\n",
       "<style scoped>\n",
       "    .dataframe tbody tr th:only-of-type {\n",
       "        vertical-align: middle;\n",
       "    }\n",
       "\n",
       "    .dataframe tbody tr th {\n",
       "        vertical-align: top;\n",
       "    }\n",
       "\n",
       "    .dataframe thead th {\n",
       "        text-align: right;\n",
       "    }\n",
       "</style>\n",
       "<table border=\"1\" class=\"dataframe\">\n",
       "  <thead>\n",
       "    <tr style=\"text-align: right;\">\n",
       "      <th></th>\n",
       "      <th>step</th>\n",
       "      <th>amount</th>\n",
       "      <th>oldbalanceOrg</th>\n",
       "      <th>newbalanceOrig</th>\n",
       "      <th>oldbalanceDest</th>\n",
       "      <th>newbalanceDest</th>\n",
       "      <th>type_CASH_OUT</th>\n",
       "      <th>type_DEBIT</th>\n",
       "      <th>type_PAYMENT</th>\n",
       "      <th>type_TRANSFER</th>\n",
       "      <th>isFraud_1</th>\n",
       "      <th>isFlaggedFraud_1</th>\n",
       "    </tr>\n",
       "  </thead>\n",
       "  <tbody>\n",
       "    <tr>\n",
       "      <th>0</th>\n",
       "      <td>1.0</td>\n",
       "      <td>9839.64</td>\n",
       "      <td>170136.0</td>\n",
       "      <td>160296.36</td>\n",
       "      <td>0.0</td>\n",
       "      <td>0.0</td>\n",
       "      <td>0.0</td>\n",
       "      <td>0.0</td>\n",
       "      <td>1.0</td>\n",
       "      <td>0.0</td>\n",
       "      <td>0.0</td>\n",
       "      <td>0.0</td>\n",
       "    </tr>\n",
       "    <tr>\n",
       "      <th>1</th>\n",
       "      <td>1.0</td>\n",
       "      <td>1864.28</td>\n",
       "      <td>21249.0</td>\n",
       "      <td>19384.72</td>\n",
       "      <td>0.0</td>\n",
       "      <td>0.0</td>\n",
       "      <td>0.0</td>\n",
       "      <td>0.0</td>\n",
       "      <td>1.0</td>\n",
       "      <td>0.0</td>\n",
       "      <td>0.0</td>\n",
       "      <td>0.0</td>\n",
       "    </tr>\n",
       "    <tr>\n",
       "      <th>2</th>\n",
       "      <td>1.0</td>\n",
       "      <td>181.00</td>\n",
       "      <td>181.0</td>\n",
       "      <td>0.00</td>\n",
       "      <td>0.0</td>\n",
       "      <td>0.0</td>\n",
       "      <td>0.0</td>\n",
       "      <td>0.0</td>\n",
       "      <td>0.0</td>\n",
       "      <td>1.0</td>\n",
       "      <td>1.0</td>\n",
       "      <td>0.0</td>\n",
       "    </tr>\n",
       "    <tr>\n",
       "      <th>3</th>\n",
       "      <td>1.0</td>\n",
       "      <td>181.00</td>\n",
       "      <td>181.0</td>\n",
       "      <td>0.00</td>\n",
       "      <td>21182.0</td>\n",
       "      <td>0.0</td>\n",
       "      <td>1.0</td>\n",
       "      <td>0.0</td>\n",
       "      <td>0.0</td>\n",
       "      <td>0.0</td>\n",
       "      <td>1.0</td>\n",
       "      <td>0.0</td>\n",
       "    </tr>\n",
       "    <tr>\n",
       "      <th>4</th>\n",
       "      <td>1.0</td>\n",
       "      <td>11668.14</td>\n",
       "      <td>41554.0</td>\n",
       "      <td>29885.86</td>\n",
       "      <td>0.0</td>\n",
       "      <td>0.0</td>\n",
       "      <td>0.0</td>\n",
       "      <td>0.0</td>\n",
       "      <td>1.0</td>\n",
       "      <td>0.0</td>\n",
       "      <td>0.0</td>\n",
       "      <td>0.0</td>\n",
       "    </tr>\n",
       "  </tbody>\n",
       "</table>\n",
       "</div>"
      ],
      "text/plain": [
       "   step    amount  oldbalanceOrg  newbalanceOrig  oldbalanceDest  \\\n",
       "0   1.0   9839.64       170136.0       160296.36             0.0   \n",
       "1   1.0   1864.28        21249.0        19384.72             0.0   \n",
       "2   1.0    181.00          181.0            0.00             0.0   \n",
       "3   1.0    181.00          181.0            0.00         21182.0   \n",
       "4   1.0  11668.14        41554.0        29885.86             0.0   \n",
       "\n",
       "   newbalanceDest  type_CASH_OUT  type_DEBIT  type_PAYMENT  type_TRANSFER  \\\n",
       "0             0.0            0.0         0.0           1.0            0.0   \n",
       "1             0.0            0.0         0.0           1.0            0.0   \n",
       "2             0.0            0.0         0.0           0.0            1.0   \n",
       "3             0.0            1.0         0.0           0.0            0.0   \n",
       "4             0.0            0.0         0.0           1.0            0.0   \n",
       "\n",
       "   isFraud_1  isFlaggedFraud_1  \n",
       "0        0.0               0.0  \n",
       "1        0.0               0.0  \n",
       "2        1.0               0.0  \n",
       "3        1.0               0.0  \n",
       "4        0.0               0.0  "
      ]
     },
     "execution_count": 26,
     "metadata": {},
     "output_type": "execute_result"
    }
   ],
   "source": [
    "# To display the first few rows of  \"Fraud\" dataframe to check for the created dummies variables\n",
    "Fraud.head()"
   ]
  },
  {
   "cell_type": "code",
   "execution_count": 27,
   "id": "754efac6",
   "metadata": {},
   "outputs": [
    {
     "data": {
      "text/html": [
       "<div>\n",
       "<style scoped>\n",
       "    .dataframe tbody tr th:only-of-type {\n",
       "        vertical-align: middle;\n",
       "    }\n",
       "\n",
       "    .dataframe tbody tr th {\n",
       "        vertical-align: top;\n",
       "    }\n",
       "\n",
       "    .dataframe thead th {\n",
       "        text-align: right;\n",
       "    }\n",
       "</style>\n",
       "<table border=\"1\" class=\"dataframe\">\n",
       "  <thead>\n",
       "    <tr style=\"text-align: right;\">\n",
       "      <th></th>\n",
       "      <th>step</th>\n",
       "      <th>amount</th>\n",
       "      <th>oldbalanceOrg</th>\n",
       "      <th>newbalanceOrig</th>\n",
       "      <th>oldbalanceDest</th>\n",
       "      <th>newbalanceDest</th>\n",
       "      <th>type_CASH_OUT</th>\n",
       "      <th>type_DEBIT</th>\n",
       "      <th>type_PAYMENT</th>\n",
       "      <th>type_TRANSFER</th>\n",
       "      <th>isFraud_1</th>\n",
       "      <th>isFlaggedFraud_1</th>\n",
       "    </tr>\n",
       "  </thead>\n",
       "  <tbody>\n",
       "    <tr>\n",
       "      <th>step</th>\n",
       "      <td>1.000000</td>\n",
       "      <td>-0.006764</td>\n",
       "      <td>-0.013727</td>\n",
       "      <td>-0.013608</td>\n",
       "      <td>0.001201</td>\n",
       "      <td>-0.005468</td>\n",
       "      <td>-0.012817</td>\n",
       "      <td>0.002744</td>\n",
       "      <td>0.005072</td>\n",
       "      <td>0.006661</td>\n",
       "      <td>0.029138</td>\n",
       "      <td>0.002900</td>\n",
       "    </tr>\n",
       "    <tr>\n",
       "      <th>amount</th>\n",
       "      <td>-0.006764</td>\n",
       "      <td>1.000000</td>\n",
       "      <td>0.023468</td>\n",
       "      <td>0.050487</td>\n",
       "      <td>0.412529</td>\n",
       "      <td>0.497708</td>\n",
       "      <td>0.201246</td>\n",
       "      <td>-0.070191</td>\n",
       "      <td>-0.582672</td>\n",
       "      <td>0.477567</td>\n",
       "      <td>0.048094</td>\n",
       "      <td>0.003837</td>\n",
       "    </tr>\n",
       "    <tr>\n",
       "      <th>oldbalanceOrg</th>\n",
       "      <td>-0.013727</td>\n",
       "      <td>0.023468</td>\n",
       "      <td>1.000000</td>\n",
       "      <td>0.858632</td>\n",
       "      <td>0.105036</td>\n",
       "      <td>0.038118</td>\n",
       "      <td>-0.271138</td>\n",
       "      <td>-0.013722</td>\n",
       "      <td>-0.145024</td>\n",
       "      <td>-0.116704</td>\n",
       "      <td>0.045966</td>\n",
       "      <td>0.003036</td>\n",
       "    </tr>\n",
       "    <tr>\n",
       "      <th>newbalanceOrig</th>\n",
       "      <td>-0.013608</td>\n",
       "      <td>0.050487</td>\n",
       "      <td>0.858632</td>\n",
       "      <td>1.000000</td>\n",
       "      <td>0.120676</td>\n",
       "      <td>0.016830</td>\n",
       "      <td>-0.395134</td>\n",
       "      <td>-0.018881</td>\n",
       "      <td>-0.194133</td>\n",
       "      <td>-0.180455</td>\n",
       "      <td>-0.021092</td>\n",
       "      <td>0.003090</td>\n",
       "    </tr>\n",
       "    <tr>\n",
       "      <th>oldbalanceDest</th>\n",
       "      <td>0.001201</td>\n",
       "      <td>0.412529</td>\n",
       "      <td>0.105036</td>\n",
       "      <td>0.120676</td>\n",
       "      <td>1.000000</td>\n",
       "      <td>0.966351</td>\n",
       "      <td>0.220451</td>\n",
       "      <td>0.020944</td>\n",
       "      <td>-0.512740</td>\n",
       "      <td>0.206996</td>\n",
       "      <td>-0.013570</td>\n",
       "      <td>-0.001138</td>\n",
       "    </tr>\n",
       "    <tr>\n",
       "      <th>newbalanceDest</th>\n",
       "      <td>-0.005468</td>\n",
       "      <td>0.497708</td>\n",
       "      <td>0.038118</td>\n",
       "      <td>0.016830</td>\n",
       "      <td>0.966351</td>\n",
       "      <td>1.000000</td>\n",
       "      <td>0.271340</td>\n",
       "      <td>0.014744</td>\n",
       "      <td>-0.528337</td>\n",
       "      <td>0.306022</td>\n",
       "      <td>-0.001172</td>\n",
       "      <td>-0.001172</td>\n",
       "    </tr>\n",
       "    <tr>\n",
       "      <th>type_CASH_OUT</th>\n",
       "      <td>-0.012817</td>\n",
       "      <td>0.201246</td>\n",
       "      <td>-0.271138</td>\n",
       "      <td>-0.395134</td>\n",
       "      <td>0.220451</td>\n",
       "      <td>0.271340</td>\n",
       "      <td>1.000000</td>\n",
       "      <td>-0.059625</td>\n",
       "      <td>-0.526422</td>\n",
       "      <td>-0.222672</td>\n",
       "      <td>0.011256</td>\n",
       "      <td>-0.001168</td>\n",
       "    </tr>\n",
       "    <tr>\n",
       "      <th>type_DEBIT</th>\n",
       "      <td>0.002744</td>\n",
       "      <td>-0.070191</td>\n",
       "      <td>-0.013722</td>\n",
       "      <td>-0.018881</td>\n",
       "      <td>0.020944</td>\n",
       "      <td>0.014744</td>\n",
       "      <td>-0.059625</td>\n",
       "      <td>1.000000</td>\n",
       "      <td>-0.057868</td>\n",
       "      <td>-0.024478</td>\n",
       "      <td>-0.002911</td>\n",
       "      <td>-0.000128</td>\n",
       "    </tr>\n",
       "    <tr>\n",
       "      <th>type_PAYMENT</th>\n",
       "      <td>0.005072</td>\n",
       "      <td>-0.582672</td>\n",
       "      <td>-0.145024</td>\n",
       "      <td>-0.194133</td>\n",
       "      <td>-0.512740</td>\n",
       "      <td>-0.528337</td>\n",
       "      <td>-0.526422</td>\n",
       "      <td>-0.057868</td>\n",
       "      <td>1.000000</td>\n",
       "      <td>-0.216110</td>\n",
       "      <td>-0.025697</td>\n",
       "      <td>-0.001133</td>\n",
       "    </tr>\n",
       "    <tr>\n",
       "      <th>type_TRANSFER</th>\n",
       "      <td>0.006661</td>\n",
       "      <td>0.477567</td>\n",
       "      <td>-0.116704</td>\n",
       "      <td>-0.180455</td>\n",
       "      <td>0.206996</td>\n",
       "      <td>0.306022</td>\n",
       "      <td>-0.222672</td>\n",
       "      <td>-0.024478</td>\n",
       "      <td>-0.216110</td>\n",
       "      <td>1.000000</td>\n",
       "      <td>0.053869</td>\n",
       "      <td>0.005245</td>\n",
       "    </tr>\n",
       "    <tr>\n",
       "      <th>isFraud_1</th>\n",
       "      <td>0.029138</td>\n",
       "      <td>0.048094</td>\n",
       "      <td>0.045966</td>\n",
       "      <td>-0.021092</td>\n",
       "      <td>-0.013570</td>\n",
       "      <td>-0.001172</td>\n",
       "      <td>0.011256</td>\n",
       "      <td>-0.002911</td>\n",
       "      <td>-0.025697</td>\n",
       "      <td>0.053869</td>\n",
       "      <td>1.000000</td>\n",
       "      <td>0.044109</td>\n",
       "    </tr>\n",
       "    <tr>\n",
       "      <th>isFlaggedFraud_1</th>\n",
       "      <td>0.002900</td>\n",
       "      <td>0.003837</td>\n",
       "      <td>0.003036</td>\n",
       "      <td>0.003090</td>\n",
       "      <td>-0.001138</td>\n",
       "      <td>-0.001172</td>\n",
       "      <td>-0.001168</td>\n",
       "      <td>-0.000128</td>\n",
       "      <td>-0.001133</td>\n",
       "      <td>0.005245</td>\n",
       "      <td>0.044109</td>\n",
       "      <td>1.000000</td>\n",
       "    </tr>\n",
       "  </tbody>\n",
       "</table>\n",
       "</div>"
      ],
      "text/plain": [
       "                      step    amount  oldbalanceOrg  newbalanceOrig  \\\n",
       "step              1.000000 -0.006764      -0.013727       -0.013608   \n",
       "amount           -0.006764  1.000000       0.023468        0.050487   \n",
       "oldbalanceOrg    -0.013727  0.023468       1.000000        0.858632   \n",
       "newbalanceOrig   -0.013608  0.050487       0.858632        1.000000   \n",
       "oldbalanceDest    0.001201  0.412529       0.105036        0.120676   \n",
       "newbalanceDest   -0.005468  0.497708       0.038118        0.016830   \n",
       "type_CASH_OUT    -0.012817  0.201246      -0.271138       -0.395134   \n",
       "type_DEBIT        0.002744 -0.070191      -0.013722       -0.018881   \n",
       "type_PAYMENT      0.005072 -0.582672      -0.145024       -0.194133   \n",
       "type_TRANSFER     0.006661  0.477567      -0.116704       -0.180455   \n",
       "isFraud_1         0.029138  0.048094       0.045966       -0.021092   \n",
       "isFlaggedFraud_1  0.002900  0.003837       0.003036        0.003090   \n",
       "\n",
       "                  oldbalanceDest  newbalanceDest  type_CASH_OUT  type_DEBIT  \\\n",
       "step                    0.001201       -0.005468      -0.012817    0.002744   \n",
       "amount                  0.412529        0.497708       0.201246   -0.070191   \n",
       "oldbalanceOrg           0.105036        0.038118      -0.271138   -0.013722   \n",
       "newbalanceOrig          0.120676        0.016830      -0.395134   -0.018881   \n",
       "oldbalanceDest          1.000000        0.966351       0.220451    0.020944   \n",
       "newbalanceDest          0.966351        1.000000       0.271340    0.014744   \n",
       "type_CASH_OUT           0.220451        0.271340       1.000000   -0.059625   \n",
       "type_DEBIT              0.020944        0.014744      -0.059625    1.000000   \n",
       "type_PAYMENT           -0.512740       -0.528337      -0.526422   -0.057868   \n",
       "type_TRANSFER           0.206996        0.306022      -0.222672   -0.024478   \n",
       "isFraud_1              -0.013570       -0.001172       0.011256   -0.002911   \n",
       "isFlaggedFraud_1       -0.001138       -0.001172      -0.001168   -0.000128   \n",
       "\n",
       "                  type_PAYMENT  type_TRANSFER  isFraud_1  isFlaggedFraud_1  \n",
       "step                  0.005072       0.006661   0.029138          0.002900  \n",
       "amount               -0.582672       0.477567   0.048094          0.003837  \n",
       "oldbalanceOrg        -0.145024      -0.116704   0.045966          0.003036  \n",
       "newbalanceOrig       -0.194133      -0.180455  -0.021092          0.003090  \n",
       "oldbalanceDest       -0.512740       0.206996  -0.013570         -0.001138  \n",
       "newbalanceDest       -0.528337       0.306022  -0.001172         -0.001172  \n",
       "type_CASH_OUT        -0.526422      -0.222672   0.011256         -0.001168  \n",
       "type_DEBIT           -0.057868      -0.024478  -0.002911         -0.000128  \n",
       "type_PAYMENT          1.000000      -0.216110  -0.025697         -0.001133  \n",
       "type_TRANSFER        -0.216110       1.000000   0.053869          0.005245  \n",
       "isFraud_1            -0.025697       0.053869   1.000000          0.044109  \n",
       "isFlaggedFraud_1     -0.001133       0.005245   0.044109          1.000000  "
      ]
     },
     "execution_count": 27,
     "metadata": {},
     "output_type": "execute_result"
    }
   ],
   "source": [
    "# To get the multi-collinearity between variables\n",
    "Fraud.corr()"
   ]
  },
  {
   "cell_type": "markdown",
   "id": "3df285a6",
   "metadata": {},
   "source": [
    "##### 3.2.1 Independent and dependent (isFraud) data spliting"
   ]
  },
  {
   "cell_type": "code",
   "execution_count": 28,
   "id": "a91d05d3",
   "metadata": {},
   "outputs": [
    {
     "name": "stdout",
     "output_type": "stream",
     "text": [
      "          step        amount  oldbalanceOrg  newbalanceOrig  oldbalanceDest  \\\n",
      "0          1.0    9839.64000    170136.0000       160296.36    0.000000e+00   \n",
      "1          1.0    1864.28000     21249.0000        19384.72    0.000000e+00   \n",
      "2          1.0     181.00000       181.0000            0.00    0.000000e+00   \n",
      "3          1.0     181.00000       181.0000            0.00    2.118200e+04   \n",
      "4          1.0   11668.14000     41554.0000        29885.86    0.000000e+00   \n",
      "...        ...           ...            ...             ...             ...   \n",
      "6362615  603.5  339682.13000    268287.9375            0.00    0.000000e+00   \n",
      "6362616  603.5  501719.33875    268287.9375            0.00    0.000000e+00   \n",
      "6362617  603.5  501719.33875    268287.9375            0.00    6.848884e+04   \n",
      "6362618  603.5  501719.33875    268287.9375            0.00    0.000000e+00   \n",
      "6362619  603.5  501719.33875    268287.9375            0.00    2.357592e+06   \n",
      "\n",
      "         newbalanceDest  type_CASH_OUT  type_DEBIT  type_PAYMENT  \\\n",
      "0                 0.000            0.0         0.0           1.0   \n",
      "1                 0.000            0.0         0.0           1.0   \n",
      "2                 0.000            0.0         0.0           0.0   \n",
      "3                 0.000            1.0         0.0           0.0   \n",
      "4                 0.000            0.0         0.0           1.0   \n",
      "...                 ...            ...         ...           ...   \n",
      "6362615      339682.130            1.0         0.0           0.0   \n",
      "6362616           0.000            0.0         0.0           0.0   \n",
      "6362617     2779773.125            1.0         0.0           0.0   \n",
      "6362618           0.000            0.0         0.0           0.0   \n",
      "6362619     2779773.125            1.0         0.0           0.0   \n",
      "\n",
      "         type_TRANSFER  isFraud_1  \n",
      "0                  0.0        0.0  \n",
      "1                  0.0        0.0  \n",
      "2                  1.0        1.0  \n",
      "3                  0.0        1.0  \n",
      "4                  0.0        0.0  \n",
      "...                ...        ...  \n",
      "6362615            0.0        1.0  \n",
      "6362616            1.0        1.0  \n",
      "6362617            0.0        1.0  \n",
      "6362618            1.0        1.0  \n",
      "6362619            0.0        1.0  \n",
      "\n",
      "[6362620 rows x 11 columns]\n"
     ]
    }
   ],
   "source": [
    "# Creating and printing \"X\" dataframe as independent data\n",
    "X = Fraud.loc[:,Fraud.columns!=\"isFlaggedFraud_1\"]\n",
    "print(X) # print \"X\""
   ]
  },
  {
   "cell_type": "code",
   "execution_count": 29,
   "id": "172bce6f",
   "metadata": {},
   "outputs": [
    {
     "name": "stdout",
     "output_type": "stream",
     "text": [
      "0          0.0\n",
      "1          0.0\n",
      "2          0.0\n",
      "3          0.0\n",
      "4          0.0\n",
      "          ... \n",
      "6362615    0.0\n",
      "6362616    0.0\n",
      "6362617    0.0\n",
      "6362618    0.0\n",
      "6362619    0.0\n",
      "Name: isFlaggedFraud_1, Length: 6362620, dtype: float64\n"
     ]
    }
   ],
   "source": [
    "# Creating and printing \"Y\" dataframe as dependent data\n",
    "Y = Fraud[\"isFlaggedFraud_1\"]\n",
    "print(Y) # print \"Y\""
   ]
  },
  {
   "cell_type": "markdown",
   "id": "74680cb5",
   "metadata": {},
   "source": [
    "##### 3.2.2 Train-test data spliting from \"X\" and \"Y\" splitted dataframes"
   ]
  },
  {
   "cell_type": "code",
   "execution_count": 30,
   "id": "363c94e0",
   "metadata": {},
   "outputs": [
    {
     "name": "stdout",
     "output_type": "stream",
     "text": [
      "(5090096, 11) (1272524, 11) (5090096,) (1272524,)\n"
     ]
    }
   ],
   "source": [
    "# Import the \"train_test_split\" library\n",
    "from sklearn.model_selection import train_test_split\n",
    "\n",
    "# Split the dataset into training and testing sets with (80-20%) ratio\n",
    "x_train, x_test, y_train, y_test = train_test_split(X, Y, test_size=0.2, random_state=0)\n",
    "\n",
    "# Print the shapes of the test, train of \"X\" and \"Y\" sets\n",
    "print(x_train.shape, x_test.shape, y_train.shape, y_test.shape)"
   ]
  },
  {
   "cell_type": "markdown",
   "id": "b23953cf",
   "metadata": {},
   "source": [
    "### 4.1 and 4.2 steps for question-4, I will perfoem with question-2 together\n",
    "## Q2. Describe your fraud detection model in elaboration.\n",
    "- 2.1.1 Logistic Regression \n",
    "\n",
    "- 2.1.2 Linear Discriminant Analysis\n",
    "\n",
    "#### Advance Ensemble techniques like, Bagging, Random forest Classifier, Gradient search, Ada boost, and XG Boost can handle both numerical and categorical data\n",
    "\n",
    "- 2.2.1 Bagging\n",
    "\n",
    "- 2.2.2 Random Forest \n",
    "\n",
    "- 2.2.3 Gradient Boosting\n",
    "\n",
    "- 2.2.4 Ada boost\n",
    "\n",
    "- 2.2.5 XG Boost\n",
    "\n",
    "- 2.2.6 Classification Decision Tree"
   ]
  },
  {
   "cell_type": "markdown",
   "id": "e41d62f8",
   "metadata": {},
   "source": [
    "### 2.1.1 Logistic Regression\n",
    "##### 2.1.1.1 Performing logistic regression by using sklearn model on \"y_train\" and \"x_train\" varaibles"
   ]
  },
  {
   "cell_type": "code",
   "execution_count": 31,
   "id": "95c83c57",
   "metadata": {},
   "outputs": [
    {
     "data": {
      "text/html": [
       "<style>#sk-container-id-1 {color: black;background-color: white;}#sk-container-id-1 pre{padding: 0;}#sk-container-id-1 div.sk-toggleable {background-color: white;}#sk-container-id-1 label.sk-toggleable__label {cursor: pointer;display: block;width: 100%;margin-bottom: 0;padding: 0.3em;box-sizing: border-box;text-align: center;}#sk-container-id-1 label.sk-toggleable__label-arrow:before {content: \"▸\";float: left;margin-right: 0.25em;color: #696969;}#sk-container-id-1 label.sk-toggleable__label-arrow:hover:before {color: black;}#sk-container-id-1 div.sk-estimator:hover label.sk-toggleable__label-arrow:before {color: black;}#sk-container-id-1 div.sk-toggleable__content {max-height: 0;max-width: 0;overflow: hidden;text-align: left;background-color: #f0f8ff;}#sk-container-id-1 div.sk-toggleable__content pre {margin: 0.2em;color: black;border-radius: 0.25em;background-color: #f0f8ff;}#sk-container-id-1 input.sk-toggleable__control:checked~div.sk-toggleable__content {max-height: 200px;max-width: 100%;overflow: auto;}#sk-container-id-1 input.sk-toggleable__control:checked~label.sk-toggleable__label-arrow:before {content: \"▾\";}#sk-container-id-1 div.sk-estimator input.sk-toggleable__control:checked~label.sk-toggleable__label {background-color: #d4ebff;}#sk-container-id-1 div.sk-label input.sk-toggleable__control:checked~label.sk-toggleable__label {background-color: #d4ebff;}#sk-container-id-1 input.sk-hidden--visually {border: 0;clip: rect(1px 1px 1px 1px);clip: rect(1px, 1px, 1px, 1px);height: 1px;margin: -1px;overflow: hidden;padding: 0;position: absolute;width: 1px;}#sk-container-id-1 div.sk-estimator {font-family: monospace;background-color: #f0f8ff;border: 1px dotted black;border-radius: 0.25em;box-sizing: border-box;margin-bottom: 0.5em;}#sk-container-id-1 div.sk-estimator:hover {background-color: #d4ebff;}#sk-container-id-1 div.sk-parallel-item::after {content: \"\";width: 100%;border-bottom: 1px solid gray;flex-grow: 1;}#sk-container-id-1 div.sk-label:hover label.sk-toggleable__label {background-color: #d4ebff;}#sk-container-id-1 div.sk-serial::before {content: \"\";position: absolute;border-left: 1px solid gray;box-sizing: border-box;top: 0;bottom: 0;left: 50%;z-index: 0;}#sk-container-id-1 div.sk-serial {display: flex;flex-direction: column;align-items: center;background-color: white;padding-right: 0.2em;padding-left: 0.2em;position: relative;}#sk-container-id-1 div.sk-item {position: relative;z-index: 1;}#sk-container-id-1 div.sk-parallel {display: flex;align-items: stretch;justify-content: center;background-color: white;position: relative;}#sk-container-id-1 div.sk-item::before, #sk-container-id-1 div.sk-parallel-item::before {content: \"\";position: absolute;border-left: 1px solid gray;box-sizing: border-box;top: 0;bottom: 0;left: 50%;z-index: -1;}#sk-container-id-1 div.sk-parallel-item {display: flex;flex-direction: column;z-index: 1;position: relative;background-color: white;}#sk-container-id-1 div.sk-parallel-item:first-child::after {align-self: flex-end;width: 50%;}#sk-container-id-1 div.sk-parallel-item:last-child::after {align-self: flex-start;width: 50%;}#sk-container-id-1 div.sk-parallel-item:only-child::after {width: 0;}#sk-container-id-1 div.sk-dashed-wrapped {border: 1px dashed gray;margin: 0 0.4em 0.5em 0.4em;box-sizing: border-box;padding-bottom: 0.4em;background-color: white;}#sk-container-id-1 div.sk-label label {font-family: monospace;font-weight: bold;display: inline-block;line-height: 1.2em;}#sk-container-id-1 div.sk-label-container {text-align: center;}#sk-container-id-1 div.sk-container {/* jupyter's `normalize.less` sets `[hidden] { display: none; }` but bootstrap.min.css set `[hidden] { display: none !important; }` so we also need the `!important` here to be able to override the default hidden behavior on the sphinx rendered scikit-learn.org. See: https://github.com/scikit-learn/scikit-learn/issues/21755 */display: inline-block !important;position: relative;}#sk-container-id-1 div.sk-text-repr-fallback {display: none;}</style><div id=\"sk-container-id-1\" class=\"sk-top-container\"><div class=\"sk-text-repr-fallback\"><pre>LogisticRegression()</pre><b>In a Jupyter environment, please rerun this cell to show the HTML representation or trust the notebook. <br />On GitHub, the HTML representation is unable to render, please try loading this page with nbviewer.org.</b></div><div class=\"sk-container\" hidden><div class=\"sk-item\"><div class=\"sk-estimator sk-toggleable\"><input class=\"sk-toggleable__control sk-hidden--visually\" id=\"sk-estimator-id-1\" type=\"checkbox\" checked><label for=\"sk-estimator-id-1\" class=\"sk-toggleable__label sk-toggleable__label-arrow\">LogisticRegression</label><div class=\"sk-toggleable__content\"><pre>LogisticRegression()</pre></div></div></div></div></div>"
      ],
      "text/plain": [
       "LogisticRegression()"
      ]
     },
     "execution_count": 31,
     "metadata": {},
     "output_type": "execute_result"
    }
   ],
   "source": [
    "# Import the LogisticRegression module from the sklearn.linear library\n",
    "from sklearn.linear_model import LogisticRegression\n",
    "\n",
    "Logistic_Reg = LogisticRegression() # Define Logistic Regression function\n",
    "\n",
    "# Fit Logistic Regression on \"x_train_scaler\" and \"y_train\"\n",
    "Logistic_Reg.fit(x_train, y_train)"
   ]
  },
  {
   "cell_type": "code",
   "execution_count": 32,
   "id": "dc4bcc41",
   "metadata": {},
   "outputs": [],
   "source": [
    "# Predict the target variable for the train and test dataset using the trained logistic regression model\n",
    "LR_y_train_pred = Logistic_Reg.predict(x_train)\n",
    "LR_y_test_pred = Logistic_Reg.predict(x_test)"
   ]
  },
  {
   "cell_type": "markdown",
   "id": "d8b7a742",
   "metadata": {},
   "source": [
    "##### 2.1.1.2 Performance evaluation for Logistic regression"
   ]
  },
  {
   "cell_type": "code",
   "execution_count": 33,
   "id": "1cea9802",
   "metadata": {},
   "outputs": [],
   "source": [
    "# Importung mean_absolute_error, mean_squared_error, confusion_matrix, accuracy_score, from sklearn.metrics model\n",
    "from sklearn.metrics import mean_absolute_error, mean_squared_error, confusion_matrix, accuracy_score "
   ]
  },
  {
   "cell_type": "markdown",
   "id": "33d8a649",
   "metadata": {},
   "source": [
    "##### 2.1.1.2.1 Calculation of MSE for train and test dataset"
   ]
  },
  {
   "cell_type": "code",
   "execution_count": 34,
   "id": "e150a2c4",
   "metadata": {},
   "outputs": [
    {
     "name": "stdout",
     "output_type": "stream",
     "text": [
      "2.1610594377787766e-06\n"
     ]
    }
   ],
   "source": [
    "# Calculate mean squared error for training dataset of logistic regression\n",
    "LR_train_mse = mean_squared_error(y_train, LR_y_train_pred)\n",
    "\n",
    "# Print \"MSE\" of train dataset for Logistic regression\n",
    "print(LR_train_mse)  "
   ]
  },
  {
   "cell_type": "code",
   "execution_count": 35,
   "id": "4b6bf198",
   "metadata": {},
   "outputs": [
    {
     "name": "stdout",
     "output_type": "stream",
     "text": [
      "3.929198977779594e-06\n"
     ]
    }
   ],
   "source": [
    "# Calculate mean squared error for testing dataset of logistic regression\n",
    "LR_test_mse = mean_squared_error(y_test, LR_y_test_pred)\n",
    "\n",
    "# Print \"MSE\" of test dataset for Logistic regression\n",
    "print(LR_test_mse)  "
   ]
  },
  {
   "cell_type": "markdown",
   "id": "ea7d6e28",
   "metadata": {},
   "source": [
    "##### 2.1.1.2.2 Calculation of MAE for train and test dataset"
   ]
  },
  {
   "cell_type": "code",
   "execution_count": 36,
   "id": "661986c7",
   "metadata": {},
   "outputs": [
    {
     "name": "stdout",
     "output_type": "stream",
     "text": [
      "2.1610594377787766e-06\n"
     ]
    }
   ],
   "source": [
    "# Calculate mean absolute error for training dataset of logistic regression\n",
    "LR_train_mae = mean_absolute_error(y_train, LR_y_train_pred)\n",
    "\n",
    "# Print \"MAE\" of train dataset for Logistic regression\n",
    "print(LR_train_mae) "
   ]
  },
  {
   "cell_type": "code",
   "execution_count": 37,
   "id": "67b621f5",
   "metadata": {},
   "outputs": [
    {
     "name": "stdout",
     "output_type": "stream",
     "text": [
      "3.929198977779594e-06\n"
     ]
    }
   ],
   "source": [
    "# Calculate mean absolute error for testing dataset of logistic regression\n",
    "LR_test_mae = mean_absolute_error(y_test, LR_y_test_pred)\n",
    "\n",
    "# Print \"MAE\" of test dataset for Logistic regression\n",
    "print(LR_test_mae) "
   ]
  },
  {
   "cell_type": "markdown",
   "id": "9b9020ee",
   "metadata": {},
   "source": [
    "##### 2.1.1.2.3 Calculation of confusion matrix for train and test dataset"
   ]
  },
  {
   "cell_type": "code",
   "execution_count": 38,
   "id": "26947ffc",
   "metadata": {},
   "outputs": [
    {
     "name": "stdout",
     "output_type": "stream",
     "text": [
      "[[5090085       0]\n",
      " [     11       0]]\n"
     ]
    }
   ],
   "source": [
    "# Confusion matrix calculation for train dataset of logistic regression\n",
    "LR_train_conf_mat = confusion_matrix(y_train, LR_y_train_pred)\n",
    "\n",
    "# Print confusion matrix of train dataset for Logistic regression\n",
    "print(LR_train_conf_mat) "
   ]
  },
  {
   "cell_type": "code",
   "execution_count": 39,
   "id": "a6dafca0",
   "metadata": {},
   "outputs": [
    {
     "name": "stdout",
     "output_type": "stream",
     "text": [
      "[[1272519       0]\n",
      " [      5       0]]\n"
     ]
    }
   ],
   "source": [
    "# Confusion matrix calculation for test dataset of logistic regression\n",
    "LR_test_conf_mat = confusion_matrix(y_test, LR_y_test_pred)\n",
    "\n",
    "# Print confusion matrix of test dataset for Logistic regression\n",
    "print(LR_test_conf_mat) "
   ]
  },
  {
   "cell_type": "markdown",
   "id": "5774ac7c",
   "metadata": {},
   "source": [
    "##### 2.1.1.2.4 Calculation of accuracy score for train and test dataset"
   ]
  },
  {
   "cell_type": "code",
   "execution_count": 40,
   "id": "5464cccb",
   "metadata": {},
   "outputs": [
    {
     "name": "stdout",
     "output_type": "stream",
     "text": [
      "0.9999978389405623\n"
     ]
    }
   ],
   "source": [
    "# accuracy_score calculation for the train dataset's for actual values (y_train) and predicted values (LR_y_train_pred)\n",
    "LR_train_acc_score = accuracy_score(y_train, LR_y_train_pred)\n",
    "\n",
    "## Print accuracy_score of train dataset for logistic regression\n",
    "print(LR_train_acc_score)"
   ]
  },
  {
   "cell_type": "code",
   "execution_count": 41,
   "id": "72f3186a",
   "metadata": {},
   "outputs": [
    {
     "name": "stdout",
     "output_type": "stream",
     "text": [
      "0.9999960708010223\n"
     ]
    }
   ],
   "source": [
    "# accuracy_score calculation for the test dataset's for actual values (y_test) and predicted values (LR_y_test_pred)\n",
    "LR_test_acc_score = accuracy_score(y_test, LR_y_test_pred)\n",
    "\n",
    "## Print accuracy_score of test dataset for logistic regression\n",
    "print(LR_test_acc_score)"
   ]
  },
  {
   "cell_type": "markdown",
   "id": "f956a49e",
   "metadata": {},
   "source": [
    "##### 2.1.1.2.5 Checking for overfitting and underfitting"
   ]
  },
  {
   "cell_type": "code",
   "execution_count": 42,
   "id": "2a1a7348",
   "metadata": {},
   "outputs": [
    {
     "name": "stdout",
     "output_type": "stream",
     "text": [
      "The 'Logistic Regression' trained model is Well-fitted.\n"
     ]
    }
   ],
   "source": [
    "# Check for overfitting\n",
    "if LR_train_acc_score > LR_test_acc_score + 0.15:  # Example threshold for overfitting\n",
    "    print(\"The 'Logistic Regression' trained model is overfitting.\")\n",
    "elif LR_train_acc_score < LR_test_acc_score - 0.15:  # Example threshold for underfitting\n",
    "    print(\"The 'Logistic Regression' trained model is underfitting.\")\n",
    "else:\n",
    "    print(\"The 'Logistic Regression' trained model is Well-fitted.\")"
   ]
  },
  {
   "cell_type": "markdown",
   "id": "2f162c2f",
   "metadata": {},
   "source": [
    "### 2.1.2 Linear Discriminant Analysis (LDA)\n",
    "##### 2.1.2.1 Performing Linear Discriminant Analysis by using sklearn model on \"y_train\" and \"x_train\" varaibles "
   ]
  },
  {
   "cell_type": "code",
   "execution_count": 43,
   "id": "fb2c938c",
   "metadata": {},
   "outputs": [],
   "source": [
    "# Import the StandardScaler class from the sklearn.preprocessing module\n",
    "from sklearn.preprocessing import StandardScaler\n",
    "\n",
    "# Create a StandardScaler object and fit it to the training data\n",
    "scaler = StandardScaler().fit(x_train)\n",
    "\n",
    "x_train_scaler = scaler.transform(x_train) # Transform the training data using the fitted scaler to standardize it\n",
    "x_test_scaler = scaler.transform(x_test)   # Transform the test data using the same fitted scaler to standardize it"
   ]
  },
  {
   "cell_type": "code",
   "execution_count": 44,
   "id": "c099bf80",
   "metadata": {},
   "outputs": [
    {
     "data": {
      "text/html": [
       "<style>#sk-container-id-2 {color: black;background-color: white;}#sk-container-id-2 pre{padding: 0;}#sk-container-id-2 div.sk-toggleable {background-color: white;}#sk-container-id-2 label.sk-toggleable__label {cursor: pointer;display: block;width: 100%;margin-bottom: 0;padding: 0.3em;box-sizing: border-box;text-align: center;}#sk-container-id-2 label.sk-toggleable__label-arrow:before {content: \"▸\";float: left;margin-right: 0.25em;color: #696969;}#sk-container-id-2 label.sk-toggleable__label-arrow:hover:before {color: black;}#sk-container-id-2 div.sk-estimator:hover label.sk-toggleable__label-arrow:before {color: black;}#sk-container-id-2 div.sk-toggleable__content {max-height: 0;max-width: 0;overflow: hidden;text-align: left;background-color: #f0f8ff;}#sk-container-id-2 div.sk-toggleable__content pre {margin: 0.2em;color: black;border-radius: 0.25em;background-color: #f0f8ff;}#sk-container-id-2 input.sk-toggleable__control:checked~div.sk-toggleable__content {max-height: 200px;max-width: 100%;overflow: auto;}#sk-container-id-2 input.sk-toggleable__control:checked~label.sk-toggleable__label-arrow:before {content: \"▾\";}#sk-container-id-2 div.sk-estimator input.sk-toggleable__control:checked~label.sk-toggleable__label {background-color: #d4ebff;}#sk-container-id-2 div.sk-label input.sk-toggleable__control:checked~label.sk-toggleable__label {background-color: #d4ebff;}#sk-container-id-2 input.sk-hidden--visually {border: 0;clip: rect(1px 1px 1px 1px);clip: rect(1px, 1px, 1px, 1px);height: 1px;margin: -1px;overflow: hidden;padding: 0;position: absolute;width: 1px;}#sk-container-id-2 div.sk-estimator {font-family: monospace;background-color: #f0f8ff;border: 1px dotted black;border-radius: 0.25em;box-sizing: border-box;margin-bottom: 0.5em;}#sk-container-id-2 div.sk-estimator:hover {background-color: #d4ebff;}#sk-container-id-2 div.sk-parallel-item::after {content: \"\";width: 100%;border-bottom: 1px solid gray;flex-grow: 1;}#sk-container-id-2 div.sk-label:hover label.sk-toggleable__label {background-color: #d4ebff;}#sk-container-id-2 div.sk-serial::before {content: \"\";position: absolute;border-left: 1px solid gray;box-sizing: border-box;top: 0;bottom: 0;left: 50%;z-index: 0;}#sk-container-id-2 div.sk-serial {display: flex;flex-direction: column;align-items: center;background-color: white;padding-right: 0.2em;padding-left: 0.2em;position: relative;}#sk-container-id-2 div.sk-item {position: relative;z-index: 1;}#sk-container-id-2 div.sk-parallel {display: flex;align-items: stretch;justify-content: center;background-color: white;position: relative;}#sk-container-id-2 div.sk-item::before, #sk-container-id-2 div.sk-parallel-item::before {content: \"\";position: absolute;border-left: 1px solid gray;box-sizing: border-box;top: 0;bottom: 0;left: 50%;z-index: -1;}#sk-container-id-2 div.sk-parallel-item {display: flex;flex-direction: column;z-index: 1;position: relative;background-color: white;}#sk-container-id-2 div.sk-parallel-item:first-child::after {align-self: flex-end;width: 50%;}#sk-container-id-2 div.sk-parallel-item:last-child::after {align-self: flex-start;width: 50%;}#sk-container-id-2 div.sk-parallel-item:only-child::after {width: 0;}#sk-container-id-2 div.sk-dashed-wrapped {border: 1px dashed gray;margin: 0 0.4em 0.5em 0.4em;box-sizing: border-box;padding-bottom: 0.4em;background-color: white;}#sk-container-id-2 div.sk-label label {font-family: monospace;font-weight: bold;display: inline-block;line-height: 1.2em;}#sk-container-id-2 div.sk-label-container {text-align: center;}#sk-container-id-2 div.sk-container {/* jupyter's `normalize.less` sets `[hidden] { display: none; }` but bootstrap.min.css set `[hidden] { display: none !important; }` so we also need the `!important` here to be able to override the default hidden behavior on the sphinx rendered scikit-learn.org. See: https://github.com/scikit-learn/scikit-learn/issues/21755 */display: inline-block !important;position: relative;}#sk-container-id-2 div.sk-text-repr-fallback {display: none;}</style><div id=\"sk-container-id-2\" class=\"sk-top-container\"><div class=\"sk-text-repr-fallback\"><pre>LinearDiscriminantAnalysis()</pre><b>In a Jupyter environment, please rerun this cell to show the HTML representation or trust the notebook. <br />On GitHub, the HTML representation is unable to render, please try loading this page with nbviewer.org.</b></div><div class=\"sk-container\" hidden><div class=\"sk-item\"><div class=\"sk-estimator sk-toggleable\"><input class=\"sk-toggleable__control sk-hidden--visually\" id=\"sk-estimator-id-2\" type=\"checkbox\" checked><label for=\"sk-estimator-id-2\" class=\"sk-toggleable__label sk-toggleable__label-arrow\">LinearDiscriminantAnalysis</label><div class=\"sk-toggleable__content\"><pre>LinearDiscriminantAnalysis()</pre></div></div></div></div></div>"
      ],
      "text/plain": [
       "LinearDiscriminantAnalysis()"
      ]
     },
     "execution_count": 44,
     "metadata": {},
     "output_type": "execute_result"
    }
   ],
   "source": [
    "# Import the Linear Discriminant Analysis Ridge regression model from the sklearn.linear_model module\n",
    "from sklearn.discriminant_analysis import LinearDiscriminantAnalysis\n",
    "\n",
    "# Create a Linear Discriminant Analysis model\n",
    "LDA_clf = LinearDiscriminantAnalysis()\n",
    "\n",
    "# Fit the Linear Discriminant Analysis model to the (x_train_scaler) and (y_train) values\n",
    "LDA_clf.fit(x_train_scaler, y_train)"
   ]
  },
  {
   "cell_type": "code",
   "execution_count": 45,
   "id": "2d927491",
   "metadata": {},
   "outputs": [],
   "source": [
    "# Predict the target variable for the train and test dataset for Linear Discriminant Analysis model\n",
    "LDA_y_train_pred = LDA_clf.predict(x_train_scaler)\n",
    "LDA_y_test_pred = LDA_clf.predict(x_test_scaler)"
   ]
  },
  {
   "cell_type": "markdown",
   "id": "6f681c2e",
   "metadata": {},
   "source": [
    "##### 2.1.2.2 Performance evaluation for Linear Discriminant Analysis\n",
    "##### 2.1.2.2.1 Calculation of MSE for train and test dataset "
   ]
  },
  {
   "cell_type": "code",
   "execution_count": 46,
   "id": "266a8cf7",
   "metadata": {},
   "outputs": [
    {
     "name": "stdout",
     "output_type": "stream",
     "text": [
      "0.0012889737246605958\n"
     ]
    }
   ],
   "source": [
    "# Calculate mean squared error for training dataset of Linear Discriminant Analysis\n",
    "LDA_train_mse = mean_squared_error(y_train, LDA_y_train_pred)\n",
    "\n",
    "# Print \"MSE\" of train dataset for Linear Discriminant Analysis\n",
    "print(LDA_train_mse) "
   ]
  },
  {
   "cell_type": "code",
   "execution_count": 47,
   "id": "0542a3b7",
   "metadata": {},
   "outputs": [
    {
     "name": "stdout",
     "output_type": "stream",
     "text": [
      "0.0012856339055294832\n"
     ]
    }
   ],
   "source": [
    "# Calculate mean squared error for testing dataset of Linear Discriminant Analysis\n",
    "LDA_test_mse = mean_squared_error(y_test, LDA_y_test_pred)\n",
    "\n",
    "# Print \"MSE\" of test dataset for Linear Discriminant Analysis\n",
    "print(LDA_test_mse) "
   ]
  },
  {
   "cell_type": "markdown",
   "id": "7a9e20ee",
   "metadata": {},
   "source": [
    "##### 2.1.2.2.2 Calculation of MAE for train and test dataset"
   ]
  },
  {
   "cell_type": "code",
   "execution_count": 48,
   "id": "79637c48",
   "metadata": {},
   "outputs": [
    {
     "name": "stdout",
     "output_type": "stream",
     "text": [
      "0.0012889737246605958\n"
     ]
    }
   ],
   "source": [
    "# Calculate mean absolute error for training dataset of Linear Discriminant Analysis\n",
    "LDA_train_mae = mean_absolute_error(y_train, LDA_y_train_pred)\n",
    "\n",
    "# Print \"MAE\" of train dataset for Linear Discriminant Analysis\n",
    "print(LDA_train_mae)"
   ]
  },
  {
   "cell_type": "code",
   "execution_count": 49,
   "id": "22560a4f",
   "metadata": {},
   "outputs": [
    {
     "name": "stdout",
     "output_type": "stream",
     "text": [
      "0.0012856339055294832\n"
     ]
    }
   ],
   "source": [
    "# Calculate mean absolute error for testing dataset of Linear Discriminant Analysis\n",
    "LDA_test_mae = mean_absolute_error(y_test, LDA_y_test_pred)\n",
    "\n",
    "# Print \"MAE\" of test dataset for Linear Discriminant Analysis\n",
    "print(LDA_test_mae)"
   ]
  },
  {
   "cell_type": "markdown",
   "id": "778e952d",
   "metadata": {},
   "source": [
    "##### 2.1.2.2.3 Calculation of confusion matrix for train and test dataset"
   ]
  },
  {
   "cell_type": "code",
   "execution_count": 50,
   "id": "8945b7c4",
   "metadata": {},
   "outputs": [
    {
     "name": "stdout",
     "output_type": "stream",
     "text": [
      "[[5083524    6561]\n",
      " [      0      11]]\n"
     ]
    }
   ],
   "source": [
    "# Confusion matrix calculation for train dataset of Linear Discriminant Analysis\n",
    "LDA_train_conf_mat = confusion_matrix(y_train, LDA_y_train_pred)\n",
    "\n",
    "# Print confusion matrix of train dataset for Linear Discriminant Analysis\n",
    "print(LDA_train_conf_mat)"
   ]
  },
  {
   "cell_type": "code",
   "execution_count": 51,
   "id": "c12fe384",
   "metadata": {},
   "outputs": [
    {
     "name": "stdout",
     "output_type": "stream",
     "text": [
      "[[1270883    1636]\n",
      " [      0       5]]\n"
     ]
    }
   ],
   "source": [
    "# Confusion matrix calculation for test dataset of Linear Discriminant Analysis\n",
    "LDA_test_conf_mat = confusion_matrix(y_test, LDA_y_test_pred)\n",
    "\n",
    "# Print confusion matrix of test dataset for Linear Discriminant Analysis\n",
    "print(LDA_test_conf_mat)"
   ]
  },
  {
   "cell_type": "markdown",
   "id": "aff22cfb",
   "metadata": {},
   "source": [
    "##### 2.1.2.2.4 Calculation of accuracy score for train and test dataset"
   ]
  },
  {
   "cell_type": "code",
   "execution_count": 52,
   "id": "5b63b000",
   "metadata": {},
   "outputs": [
    {
     "name": "stdout",
     "output_type": "stream",
     "text": [
      "0.9987110262753394\n"
     ]
    }
   ],
   "source": [
    "# accuracy_score calculation for the train dataset's for actual values (y_train) and predicted values (LDA_y_train_pred)\n",
    "LDA_train_acc_score = accuracy_score(y_train, LDA_y_train_pred)\n",
    "\n",
    "## Print accuracy_score of train dataset for Linear Discriminant Analysis\n",
    "print(LDA_train_acc_score)"
   ]
  },
  {
   "cell_type": "code",
   "execution_count": 53,
   "id": "beb0b8f9",
   "metadata": {},
   "outputs": [
    {
     "name": "stdout",
     "output_type": "stream",
     "text": [
      "0.9987143660944705\n"
     ]
    }
   ],
   "source": [
    "# accuracy_score calculation for the test dataset's for actual values (y_test) and predicted values (LDA_y_test_pred)\n",
    "LDA_test_acc_score = accuracy_score(y_test, LDA_y_test_pred)\n",
    "\n",
    "## Print accuracy_score of test dataset for Linear Discriminant Analysis\n",
    "print(LDA_test_acc_score)"
   ]
  },
  {
   "cell_type": "markdown",
   "id": "29ce8098",
   "metadata": {},
   "source": [
    "##### 2.1.2.2.5 Checking for overfitting and underfitting at alpha=0.5"
   ]
  },
  {
   "cell_type": "code",
   "execution_count": 54,
   "id": "ddfb9b36",
   "metadata": {},
   "outputs": [
    {
     "name": "stdout",
     "output_type": "stream",
     "text": [
      "The 'Linear Discriminant Analysis' trained model is Well-fitted.\n"
     ]
    }
   ],
   "source": [
    "# Check for overfitting\n",
    "if LDA_train_acc_score > LDA_test_acc_score + 0.15:  # Example threshold for overfitting\n",
    "    print(\"The 'Linear Discriminant Analysis' trained model is overfitting.\")\n",
    "elif LDA_train_acc_score < LDA_test_acc_score - 0.15: # Example threshold for overfitting\n",
    "    print(\"The 'Linear Discriminant Analysis' trained model is underfitting.\")\n",
    "else:\n",
    "    print(\"The 'Linear Discriminant Analysis' trained model is Well-fitted.\")"
   ]
  },
  {
   "cell_type": "markdown",
   "id": "5cb78bc8",
   "metadata": {},
   "source": [
    "### 2.2.1 Bagging\n",
    "#### https://scikit-learn.org/stable/modules/generated/sklearn.ensemble.BaggingClassifier.html\n",
    "##### 2.2.1.1 Performing Bagging by using sklearn model on \"y_train\" and \"x_train\" varaibles "
   ]
  },
  {
   "cell_type": "code",
   "execution_count": 55,
   "id": "cdcb9a3e",
   "metadata": {},
   "outputs": [
    {
     "data": {
      "text/html": [
       "<style>#sk-container-id-3 {color: black;background-color: white;}#sk-container-id-3 pre{padding: 0;}#sk-container-id-3 div.sk-toggleable {background-color: white;}#sk-container-id-3 label.sk-toggleable__label {cursor: pointer;display: block;width: 100%;margin-bottom: 0;padding: 0.3em;box-sizing: border-box;text-align: center;}#sk-container-id-3 label.sk-toggleable__label-arrow:before {content: \"▸\";float: left;margin-right: 0.25em;color: #696969;}#sk-container-id-3 label.sk-toggleable__label-arrow:hover:before {color: black;}#sk-container-id-3 div.sk-estimator:hover label.sk-toggleable__label-arrow:before {color: black;}#sk-container-id-3 div.sk-toggleable__content {max-height: 0;max-width: 0;overflow: hidden;text-align: left;background-color: #f0f8ff;}#sk-container-id-3 div.sk-toggleable__content pre {margin: 0.2em;color: black;border-radius: 0.25em;background-color: #f0f8ff;}#sk-container-id-3 input.sk-toggleable__control:checked~div.sk-toggleable__content {max-height: 200px;max-width: 100%;overflow: auto;}#sk-container-id-3 input.sk-toggleable__control:checked~label.sk-toggleable__label-arrow:before {content: \"▾\";}#sk-container-id-3 div.sk-estimator input.sk-toggleable__control:checked~label.sk-toggleable__label {background-color: #d4ebff;}#sk-container-id-3 div.sk-label input.sk-toggleable__control:checked~label.sk-toggleable__label {background-color: #d4ebff;}#sk-container-id-3 input.sk-hidden--visually {border: 0;clip: rect(1px 1px 1px 1px);clip: rect(1px, 1px, 1px, 1px);height: 1px;margin: -1px;overflow: hidden;padding: 0;position: absolute;width: 1px;}#sk-container-id-3 div.sk-estimator {font-family: monospace;background-color: #f0f8ff;border: 1px dotted black;border-radius: 0.25em;box-sizing: border-box;margin-bottom: 0.5em;}#sk-container-id-3 div.sk-estimator:hover {background-color: #d4ebff;}#sk-container-id-3 div.sk-parallel-item::after {content: \"\";width: 100%;border-bottom: 1px solid gray;flex-grow: 1;}#sk-container-id-3 div.sk-label:hover label.sk-toggleable__label {background-color: #d4ebff;}#sk-container-id-3 div.sk-serial::before {content: \"\";position: absolute;border-left: 1px solid gray;box-sizing: border-box;top: 0;bottom: 0;left: 50%;z-index: 0;}#sk-container-id-3 div.sk-serial {display: flex;flex-direction: column;align-items: center;background-color: white;padding-right: 0.2em;padding-left: 0.2em;position: relative;}#sk-container-id-3 div.sk-item {position: relative;z-index: 1;}#sk-container-id-3 div.sk-parallel {display: flex;align-items: stretch;justify-content: center;background-color: white;position: relative;}#sk-container-id-3 div.sk-item::before, #sk-container-id-3 div.sk-parallel-item::before {content: \"\";position: absolute;border-left: 1px solid gray;box-sizing: border-box;top: 0;bottom: 0;left: 50%;z-index: -1;}#sk-container-id-3 div.sk-parallel-item {display: flex;flex-direction: column;z-index: 1;position: relative;background-color: white;}#sk-container-id-3 div.sk-parallel-item:first-child::after {align-self: flex-end;width: 50%;}#sk-container-id-3 div.sk-parallel-item:last-child::after {align-self: flex-start;width: 50%;}#sk-container-id-3 div.sk-parallel-item:only-child::after {width: 0;}#sk-container-id-3 div.sk-dashed-wrapped {border: 1px dashed gray;margin: 0 0.4em 0.5em 0.4em;box-sizing: border-box;padding-bottom: 0.4em;background-color: white;}#sk-container-id-3 div.sk-label label {font-family: monospace;font-weight: bold;display: inline-block;line-height: 1.2em;}#sk-container-id-3 div.sk-label-container {text-align: center;}#sk-container-id-3 div.sk-container {/* jupyter's `normalize.less` sets `[hidden] { display: none; }` but bootstrap.min.css set `[hidden] { display: none !important; }` so we also need the `!important` here to be able to override the default hidden behavior on the sphinx rendered scikit-learn.org. See: https://github.com/scikit-learn/scikit-learn/issues/21755 */display: inline-block !important;position: relative;}#sk-container-id-3 div.sk-text-repr-fallback {display: none;}</style><div id=\"sk-container-id-3\" class=\"sk-top-container\"><div class=\"sk-text-repr-fallback\"><pre>BaggingClassifier(estimator=DecisionTreeClassifier(), n_estimators=50, n_jobs=1,\n",
       "                  random_state=42)</pre><b>In a Jupyter environment, please rerun this cell to show the HTML representation or trust the notebook. <br />On GitHub, the HTML representation is unable to render, please try loading this page with nbviewer.org.</b></div><div class=\"sk-container\" hidden><div class=\"sk-item sk-dashed-wrapped\"><div class=\"sk-label-container\"><div class=\"sk-label sk-toggleable\"><input class=\"sk-toggleable__control sk-hidden--visually\" id=\"sk-estimator-id-3\" type=\"checkbox\" ><label for=\"sk-estimator-id-3\" class=\"sk-toggleable__label sk-toggleable__label-arrow\">BaggingClassifier</label><div class=\"sk-toggleable__content\"><pre>BaggingClassifier(estimator=DecisionTreeClassifier(), n_estimators=50, n_jobs=1,\n",
       "                  random_state=42)</pre></div></div></div><div class=\"sk-parallel\"><div class=\"sk-parallel-item\"><div class=\"sk-item\"><div class=\"sk-label-container\"><div class=\"sk-label sk-toggleable\"><input class=\"sk-toggleable__control sk-hidden--visually\" id=\"sk-estimator-id-4\" type=\"checkbox\" ><label for=\"sk-estimator-id-4\" class=\"sk-toggleable__label sk-toggleable__label-arrow\">estimator: DecisionTreeClassifier</label><div class=\"sk-toggleable__content\"><pre>DecisionTreeClassifier()</pre></div></div></div><div class=\"sk-serial\"><div class=\"sk-item\"><div class=\"sk-estimator sk-toggleable\"><input class=\"sk-toggleable__control sk-hidden--visually\" id=\"sk-estimator-id-5\" type=\"checkbox\" ><label for=\"sk-estimator-id-5\" class=\"sk-toggleable__label sk-toggleable__label-arrow\">DecisionTreeClassifier</label><div class=\"sk-toggleable__content\"><pre>DecisionTreeClassifier()</pre></div></div></div></div></div></div></div></div></div></div>"
      ],
      "text/plain": [
       "BaggingClassifier(estimator=DecisionTreeClassifier(), n_estimators=50, n_jobs=1,\n",
       "                  random_state=42)"
      ]
     },
     "execution_count": 55,
     "metadata": {},
     "output_type": "execute_result"
    }
   ],
   "source": [
    "# Import BaggingClassifier model from sklearn.model and tree from sklearn\n",
    "from sklearn.ensemble import BaggingClassifier\n",
    "from sklearn import tree\n",
    "\n",
    "# Creating an instance of BaggingClassifier with the dicision tree\n",
    "clftree_bag = tree.DecisionTreeClassifier()\n",
    "Bag_clf = BaggingClassifier(estimator=clftree_bag, n_estimators=50, bootstrap=True, n_jobs=1, random_state=42)\n",
    "\n",
    "# Fit the BaggingClassifier with \"x_train_scaler\" and \"y_train\"\n",
    "Bag_clf.fit(x_train_scaler, y_train)"
   ]
  },
  {
   "cell_type": "code",
   "execution_count": 56,
   "id": "964bacaf",
   "metadata": {},
   "outputs": [],
   "source": [
    "# Predict the target variable for the train and test dataset using the trained Lasso regression model for best fit\n",
    "Bagging_y_train_pred = Bag_clf.predict(x_train_scaler)\n",
    "Bagging_y_test_pred = Bag_clf.predict(x_test_scaler)"
   ]
  },
  {
   "cell_type": "markdown",
   "id": "b41ace78",
   "metadata": {},
   "source": [
    "##### 2.2.1.2 Performance evaluation for Bagging classifier\n",
    "##### 2.2.1.2.1 Calculation of MSE for train and test dataset"
   ]
  },
  {
   "cell_type": "code",
   "execution_count": 57,
   "id": "a862c446",
   "metadata": {},
   "outputs": [
    {
     "name": "stdout",
     "output_type": "stream",
     "text": [
      "1.964599488889797e-06\n"
     ]
    }
   ],
   "source": [
    "# Calculate mean squared error for training dataset of Bagging classifier\n",
    "Bagging_train_mse = mean_squared_error(y_train, Bagging_y_train_pred)\n",
    "\n",
    "# Print \"MSE\" of train dataset for Bagging classifier\n",
    "print(Bagging_train_mse) "
   ]
  },
  {
   "cell_type": "code",
   "execution_count": 58,
   "id": "fa399a3c",
   "metadata": {},
   "outputs": [
    {
     "name": "stdout",
     "output_type": "stream",
     "text": [
      "3.1433591822236754e-06\n"
     ]
    }
   ],
   "source": [
    "# Calculate mean squared error for training dataset of Bagging classifier\n",
    "Bagging_test_mse = mean_squared_error(y_test, Bagging_y_test_pred  )\n",
    "\n",
    "# Print \"MSE\" of test dataset for Bagging classifier\n",
    "print(Bagging_test_mse) "
   ]
  },
  {
   "cell_type": "markdown",
   "id": "1b957ad2",
   "metadata": {},
   "source": [
    "##### 2.2.1.2.2 Calculation of MAE for train and test dataset at alpha=best fit"
   ]
  },
  {
   "cell_type": "code",
   "execution_count": 59,
   "id": "7434238f",
   "metadata": {},
   "outputs": [
    {
     "name": "stdout",
     "output_type": "stream",
     "text": [
      "1.964599488889797e-06\n"
     ]
    }
   ],
   "source": [
    "# Calculate mean absolute error for training dataset of Bagging classifier\n",
    "Bagging_train_mae = mean_absolute_error(y_train, Bagging_y_train_pred  )\n",
    "\n",
    "# Print \"MAE\" of train dataset for Bagging classifier\n",
    "print(Bagging_train_mae) "
   ]
  },
  {
   "cell_type": "code",
   "execution_count": 60,
   "id": "339ead55",
   "metadata": {},
   "outputs": [
    {
     "name": "stdout",
     "output_type": "stream",
     "text": [
      "3.1433591822236754e-06\n"
     ]
    }
   ],
   "source": [
    "# Calculate mean absolute error for training dataset of Bagging classifier\n",
    "Bagging_test_mae = mean_squared_error(y_test, Bagging_y_test_pred  )\n",
    "\n",
    "# Print \"MAE\" of test dataset for Bagging classifier\n",
    "print(Bagging_test_mae) "
   ]
  },
  {
   "cell_type": "markdown",
   "id": "b6305501",
   "metadata": {},
   "source": [
    "##### 2.2.1.2.3 Calculation of confusion matrix for train and test dataset"
   ]
  },
  {
   "cell_type": "code",
   "execution_count": 61,
   "id": "b215c064",
   "metadata": {},
   "outputs": [
    {
     "name": "stdout",
     "output_type": "stream",
     "text": [
      "[[5090085       0]\n",
      " [     10       1]]\n"
     ]
    }
   ],
   "source": [
    "# Confusion matrix calculation for train dataset of Bagging classifier\n",
    "Bagging_train_conf_mat = confusion_matrix(y_train, Bagging_y_train_pred)\n",
    "\n",
    "# Print confusion matrix of train dataset for Bagging classifier\n",
    "print(Bagging_train_conf_mat)"
   ]
  },
  {
   "cell_type": "code",
   "execution_count": 62,
   "id": "78eccefc",
   "metadata": {},
   "outputs": [
    {
     "name": "stdout",
     "output_type": "stream",
     "text": [
      "[[1272519       0]\n",
      " [      4       1]]\n"
     ]
    }
   ],
   "source": [
    "# Confusion matrix calculation for test dataset of Bagging classifier\n",
    "Bagging_test_conf_mat = confusion_matrix(y_test, Bagging_y_test_pred)\n",
    "\n",
    "# Print confusion matrix of test dataset for Bagging classifier\n",
    "print(Bagging_test_conf_mat)"
   ]
  },
  {
   "cell_type": "markdown",
   "id": "177a0a26",
   "metadata": {},
   "source": [
    "##### 2.2.1.2.4 Calculation of accuracy score for train and test dataset"
   ]
  },
  {
   "cell_type": "code",
   "execution_count": 63,
   "id": "7c26b51f",
   "metadata": {},
   "outputs": [
    {
     "name": "stdout",
     "output_type": "stream",
     "text": [
      "0.9999980354005111\n"
     ]
    }
   ],
   "source": [
    "# accuracy_score calculation for the train dataset's for actual values (y_train) and predicted values (Bagging_y_train_pred)\n",
    "Bagging_train_acc_score = accuracy_score(y_train, Bagging_y_train_pred)\n",
    "\n",
    "## Print accuracy_score of train dataset for Bagging classifier\n",
    "print(Bagging_train_acc_score)"
   ]
  },
  {
   "cell_type": "code",
   "execution_count": 64,
   "id": "b4723b58",
   "metadata": {},
   "outputs": [
    {
     "name": "stdout",
     "output_type": "stream",
     "text": [
      "0.9999968566408177\n"
     ]
    }
   ],
   "source": [
    "# accuracy_score calculation for the train dataset's for actual values (y_test) and predicted values (Bagging_y_test_pred)\n",
    "Bagging_test_acc_score = accuracy_score(y_test, Bagging_y_test_pred)\n",
    "\n",
    "## Print accuracy_score of test dataset for Bagging classifier\n",
    "print(Bagging_test_acc_score)"
   ]
  },
  {
   "cell_type": "markdown",
   "id": "13964729",
   "metadata": {},
   "source": [
    "##### 2.2.1.2.5 Checking for overfitting and underfitting "
   ]
  },
  {
   "cell_type": "code",
   "execution_count": 65,
   "id": "71373139",
   "metadata": {},
   "outputs": [
    {
     "name": "stdout",
     "output_type": "stream",
     "text": [
      "The 'Bagging classifier' trained model is Well-fitted.\n"
     ]
    }
   ],
   "source": [
    "# Check for overfitting\n",
    "if Bagging_train_acc_score > Bagging_test_acc_score + 0.15:    # Example threshold for overfitting\n",
    "    print(\"The 'Bagging classifier' trained model is overfitting.\")\n",
    "elif Bagging_train_acc_score < Bagging_test_acc_score - 0.15:  # Example threshold for overfitting\n",
    "    print(\"The 'Bagging classifier' trained model is underfitting.\")\n",
    "else:\n",
    "    print(\"The 'Bagging classifier' trained model is Well-fitted.\")"
   ]
  },
  {
   "cell_type": "markdown",
   "id": "353c53a4",
   "metadata": {},
   "source": [
    "### 2.2.2 Random Forest Classifier\n",
    "#### https://scikit-learn.org/stable/modules/generated/sklearn.ensemble.RandomForestRegressor.html\n",
    "##### 2.2.2.1 Performing Random Forest classifier by using sklearn model on \"y_train\" and \"x_train\" varaibles "
   ]
  },
  {
   "cell_type": "code",
   "execution_count": 66,
   "id": "d28e947c",
   "metadata": {},
   "outputs": [
    {
     "data": {
      "text/html": [
       "<style>#sk-container-id-4 {color: black;background-color: white;}#sk-container-id-4 pre{padding: 0;}#sk-container-id-4 div.sk-toggleable {background-color: white;}#sk-container-id-4 label.sk-toggleable__label {cursor: pointer;display: block;width: 100%;margin-bottom: 0;padding: 0.3em;box-sizing: border-box;text-align: center;}#sk-container-id-4 label.sk-toggleable__label-arrow:before {content: \"▸\";float: left;margin-right: 0.25em;color: #696969;}#sk-container-id-4 label.sk-toggleable__label-arrow:hover:before {color: black;}#sk-container-id-4 div.sk-estimator:hover label.sk-toggleable__label-arrow:before {color: black;}#sk-container-id-4 div.sk-toggleable__content {max-height: 0;max-width: 0;overflow: hidden;text-align: left;background-color: #f0f8ff;}#sk-container-id-4 div.sk-toggleable__content pre {margin: 0.2em;color: black;border-radius: 0.25em;background-color: #f0f8ff;}#sk-container-id-4 input.sk-toggleable__control:checked~div.sk-toggleable__content {max-height: 200px;max-width: 100%;overflow: auto;}#sk-container-id-4 input.sk-toggleable__control:checked~label.sk-toggleable__label-arrow:before {content: \"▾\";}#sk-container-id-4 div.sk-estimator input.sk-toggleable__control:checked~label.sk-toggleable__label {background-color: #d4ebff;}#sk-container-id-4 div.sk-label input.sk-toggleable__control:checked~label.sk-toggleable__label {background-color: #d4ebff;}#sk-container-id-4 input.sk-hidden--visually {border: 0;clip: rect(1px 1px 1px 1px);clip: rect(1px, 1px, 1px, 1px);height: 1px;margin: -1px;overflow: hidden;padding: 0;position: absolute;width: 1px;}#sk-container-id-4 div.sk-estimator {font-family: monospace;background-color: #f0f8ff;border: 1px dotted black;border-radius: 0.25em;box-sizing: border-box;margin-bottom: 0.5em;}#sk-container-id-4 div.sk-estimator:hover {background-color: #d4ebff;}#sk-container-id-4 div.sk-parallel-item::after {content: \"\";width: 100%;border-bottom: 1px solid gray;flex-grow: 1;}#sk-container-id-4 div.sk-label:hover label.sk-toggleable__label {background-color: #d4ebff;}#sk-container-id-4 div.sk-serial::before {content: \"\";position: absolute;border-left: 1px solid gray;box-sizing: border-box;top: 0;bottom: 0;left: 50%;z-index: 0;}#sk-container-id-4 div.sk-serial {display: flex;flex-direction: column;align-items: center;background-color: white;padding-right: 0.2em;padding-left: 0.2em;position: relative;}#sk-container-id-4 div.sk-item {position: relative;z-index: 1;}#sk-container-id-4 div.sk-parallel {display: flex;align-items: stretch;justify-content: center;background-color: white;position: relative;}#sk-container-id-4 div.sk-item::before, #sk-container-id-4 div.sk-parallel-item::before {content: \"\";position: absolute;border-left: 1px solid gray;box-sizing: border-box;top: 0;bottom: 0;left: 50%;z-index: -1;}#sk-container-id-4 div.sk-parallel-item {display: flex;flex-direction: column;z-index: 1;position: relative;background-color: white;}#sk-container-id-4 div.sk-parallel-item:first-child::after {align-self: flex-end;width: 50%;}#sk-container-id-4 div.sk-parallel-item:last-child::after {align-self: flex-start;width: 50%;}#sk-container-id-4 div.sk-parallel-item:only-child::after {width: 0;}#sk-container-id-4 div.sk-dashed-wrapped {border: 1px dashed gray;margin: 0 0.4em 0.5em 0.4em;box-sizing: border-box;padding-bottom: 0.4em;background-color: white;}#sk-container-id-4 div.sk-label label {font-family: monospace;font-weight: bold;display: inline-block;line-height: 1.2em;}#sk-container-id-4 div.sk-label-container {text-align: center;}#sk-container-id-4 div.sk-container {/* jupyter's `normalize.less` sets `[hidden] { display: none; }` but bootstrap.min.css set `[hidden] { display: none !important; }` so we also need the `!important` here to be able to override the default hidden behavior on the sphinx rendered scikit-learn.org. See: https://github.com/scikit-learn/scikit-learn/issues/21755 */display: inline-block !important;position: relative;}#sk-container-id-4 div.sk-text-repr-fallback {display: none;}</style><div id=\"sk-container-id-4\" class=\"sk-top-container\"><div class=\"sk-text-repr-fallback\"><pre>RandomForestClassifier(n_jobs=1, random_state=42)</pre><b>In a Jupyter environment, please rerun this cell to show the HTML representation or trust the notebook. <br />On GitHub, the HTML representation is unable to render, please try loading this page with nbviewer.org.</b></div><div class=\"sk-container\" hidden><div class=\"sk-item\"><div class=\"sk-estimator sk-toggleable\"><input class=\"sk-toggleable__control sk-hidden--visually\" id=\"sk-estimator-id-6\" type=\"checkbox\" checked><label for=\"sk-estimator-id-6\" class=\"sk-toggleable__label sk-toggleable__label-arrow\">RandomForestClassifier</label><div class=\"sk-toggleable__content\"><pre>RandomForestClassifier(n_jobs=1, random_state=42)</pre></div></div></div></div></div>"
      ],
      "text/plain": [
       "RandomForestClassifier(n_jobs=1, random_state=42)"
      ]
     },
     "execution_count": 66,
     "metadata": {},
     "output_type": "execute_result"
    }
   ],
   "source": [
    "# Importing the RandomForestClassifier model from the sklearn.linear_model module\n",
    "from sklearn.ensemble import RandomForestClassifier\n",
    "\n",
    "# Creating an instance of RandomForestClassifier\n",
    "RF_clf = RandomForestClassifier(n_estimators=100, n_jobs=1, random_state=42)\n",
    "\n",
    "# Now fit your RandomForestClassifier\n",
    "RF_clf.fit(x_train_scaler, y_train)"
   ]
  },
  {
   "cell_type": "code",
   "execution_count": 67,
   "id": "325f07a1",
   "metadata": {},
   "outputs": [],
   "source": [
    "# Predict the target variable for the train and test dataset using the trained random forest classifier model\n",
    "RF_y_train_pred = RF_clf.predict(x_train_scaler)\n",
    "RF_y_test_pred = RF_clf.predict(x_test_scaler)"
   ]
  },
  {
   "cell_type": "markdown",
   "id": "d77ef340",
   "metadata": {},
   "source": [
    "##### 2.2.2.2 Performance evaluation for Random Forest classifier\n",
    "##### 2.2.2.2.1 Calculation of MSE for train and test dataset "
   ]
  },
  {
   "cell_type": "code",
   "execution_count": 68,
   "id": "1dce678f",
   "metadata": {},
   "outputs": [
    {
     "name": "stdout",
     "output_type": "stream",
     "text": [
      "1.964599488889797e-06\n"
     ]
    }
   ],
   "source": [
    "# Calculate mean squared error for training dataset of random forest classifier\n",
    "RF_train_mse = mean_squared_error(y_train, RF_y_train_pred)\n",
    "\n",
    "# Print \"MSE\" of train dataset for random forest classifier\n",
    "print(RF_train_mse) "
   ]
  },
  {
   "cell_type": "code",
   "execution_count": 69,
   "id": "70bff44f",
   "metadata": {},
   "outputs": [
    {
     "name": "stdout",
     "output_type": "stream",
     "text": [
      "3.929198977779594e-06\n"
     ]
    }
   ],
   "source": [
    "# Calculate mean squared error for testing dataset of random forest classifier\n",
    "RF_test_mse = mean_squared_error(y_test, RF_y_test_pred)\n",
    "\n",
    "# Print \"MSE\" of test dataset for random forest classifier\n",
    "print(RF_test_mse) "
   ]
  },
  {
   "cell_type": "markdown",
   "id": "c71c57ca",
   "metadata": {},
   "source": [
    "##### 2.2.2.2.2 Calculation of MAE for train and test dataset "
   ]
  },
  {
   "cell_type": "code",
   "execution_count": 70,
   "id": "3794acde",
   "metadata": {},
   "outputs": [
    {
     "name": "stdout",
     "output_type": "stream",
     "text": [
      "1.964599488889797e-06\n"
     ]
    }
   ],
   "source": [
    "# Calculate mean absolute error for training dataset of random forest classifier\n",
    "RF_train_mae = mean_absolute_error(y_train, RF_y_train_pred)\n",
    "\n",
    "# Print \"MAE\" of train dataset for random forest classifier\n",
    "print(RF_train_mae)"
   ]
  },
  {
   "cell_type": "code",
   "execution_count": 71,
   "id": "68623246",
   "metadata": {},
   "outputs": [
    {
     "name": "stdout",
     "output_type": "stream",
     "text": [
      "3.929198977779594e-06\n"
     ]
    }
   ],
   "source": [
    "# Calculate mean absolute error for testing dataset of random forest classifier\n",
    "RF_test_mae = mean_absolute_error(y_test, RF_y_test_pred)\n",
    "\n",
    "# Print \"MAE\" of test dataset for random forest classifier\n",
    "print(RF_test_mae)"
   ]
  },
  {
   "cell_type": "markdown",
   "id": "0a810f17",
   "metadata": {},
   "source": [
    "##### 2.2.2.2.3 Calculation of confusion matrix for train and test dataset "
   ]
  },
  {
   "cell_type": "code",
   "execution_count": 72,
   "id": "5806e5dc",
   "metadata": {},
   "outputs": [
    {
     "name": "stdout",
     "output_type": "stream",
     "text": [
      "[[5090085       0]\n",
      " [     10       1]]\n"
     ]
    }
   ],
   "source": [
    "# Confusion matrix calculation for train dataset of random forest classifier\n",
    "RF_train_conf_mat = confusion_matrix(y_train, RF_y_train_pred)\n",
    "\n",
    "# Print confusion matrix of train dataset for random forest classifier\n",
    "print(RF_train_conf_mat)"
   ]
  },
  {
   "cell_type": "code",
   "execution_count": 73,
   "id": "bec56d21",
   "metadata": {},
   "outputs": [
    {
     "name": "stdout",
     "output_type": "stream",
     "text": [
      "[[1272519       0]\n",
      " [      5       0]]\n"
     ]
    }
   ],
   "source": [
    "# Confusion matrix calculation for test dataset of random forest classifier\n",
    "RF_test_conf_mat = confusion_matrix(y_test, RF_y_test_pred)\n",
    "\n",
    "# Print confusion matrix of test dataset for random forest classifier\n",
    "print(RF_test_conf_mat)"
   ]
  },
  {
   "cell_type": "markdown",
   "id": "8f928380",
   "metadata": {},
   "source": [
    "##### 2.2.2.2.4 Calculation of accuracy score for train and test dataset "
   ]
  },
  {
   "cell_type": "code",
   "execution_count": 74,
   "id": "85db8cc4",
   "metadata": {},
   "outputs": [
    {
     "name": "stdout",
     "output_type": "stream",
     "text": [
      "0.9999980354005111\n"
     ]
    }
   ],
   "source": [
    "# accuracy_score calculation for the train dataset's for actual values (y_train) and predicted values (RF_y_train_pred)\n",
    "RF_train_acc_score = accuracy_score(y_train, RF_y_train_pred)\n",
    "\n",
    "## Print accuracy_score of train dataset for random forest classifier\n",
    "print(RF_train_acc_score)"
   ]
  },
  {
   "cell_type": "code",
   "execution_count": 75,
   "id": "a437a820",
   "metadata": {},
   "outputs": [
    {
     "name": "stdout",
     "output_type": "stream",
     "text": [
      "0.9999960708010223\n"
     ]
    }
   ],
   "source": [
    "# accuracy_score calculation for the test dataset's for actual values (y_test) and predicted values (RF_y_test_pred)\n",
    "RF_test_acc_score = accuracy_score(y_test, RF_y_test_pred)\n",
    "\n",
    "## Print accuracy_score of test dataset for random forest classifier\n",
    "print(RF_test_acc_score)"
   ]
  },
  {
   "cell_type": "markdown",
   "id": "161d3103",
   "metadata": {},
   "source": [
    "##### 2.2.2.2.5 Checking for overfitting and underfitting "
   ]
  },
  {
   "cell_type": "code",
   "execution_count": 76,
   "id": "46725d40",
   "metadata": {},
   "outputs": [
    {
     "name": "stdout",
     "output_type": "stream",
     "text": [
      "The 'Random Forest Classifier' trained model is Well-fitted.\n"
     ]
    }
   ],
   "source": [
    "# Check for overfitting\n",
    "if RF_train_acc_score > RF_test_acc_score + 0.15:  # Example threshold for overfitting\n",
    "    print(\"The 'Random Forest Classifier' trained model is overfitting.\")\n",
    "elif RF_train_acc_score < RF_test_acc_score - 0.15:  # Example threshold for underfitting\n",
    "    print(\"The 'Random Forest Classifier' trained model is underfitting.\")\n",
    "else:\n",
    "    print(\"The 'Random Forest Classifier' trained model is Well-fitted.\")  "
   ]
  },
  {
   "cell_type": "markdown",
   "id": "2cd751b2",
   "metadata": {},
   "source": [
    "### 2.2.3 Gradient Boosting\n",
    "#### https://scikit-learn.org/stable/modules/generated/sklearn.ensemble.GradientBoostingClassifier.html\n",
    "##### 2.2.3.1 Performing Gradient boosting by using sklearn model on \"y_train\" and \"x_train\" varaibles "
   ]
  },
  {
   "cell_type": "code",
   "execution_count": 77,
   "id": "35b11a74",
   "metadata": {},
   "outputs": [
    {
     "data": {
      "text/html": [
       "<style>#sk-container-id-5 {color: black;background-color: white;}#sk-container-id-5 pre{padding: 0;}#sk-container-id-5 div.sk-toggleable {background-color: white;}#sk-container-id-5 label.sk-toggleable__label {cursor: pointer;display: block;width: 100%;margin-bottom: 0;padding: 0.3em;box-sizing: border-box;text-align: center;}#sk-container-id-5 label.sk-toggleable__label-arrow:before {content: \"▸\";float: left;margin-right: 0.25em;color: #696969;}#sk-container-id-5 label.sk-toggleable__label-arrow:hover:before {color: black;}#sk-container-id-5 div.sk-estimator:hover label.sk-toggleable__label-arrow:before {color: black;}#sk-container-id-5 div.sk-toggleable__content {max-height: 0;max-width: 0;overflow: hidden;text-align: left;background-color: #f0f8ff;}#sk-container-id-5 div.sk-toggleable__content pre {margin: 0.2em;color: black;border-radius: 0.25em;background-color: #f0f8ff;}#sk-container-id-5 input.sk-toggleable__control:checked~div.sk-toggleable__content {max-height: 200px;max-width: 100%;overflow: auto;}#sk-container-id-5 input.sk-toggleable__control:checked~label.sk-toggleable__label-arrow:before {content: \"▾\";}#sk-container-id-5 div.sk-estimator input.sk-toggleable__control:checked~label.sk-toggleable__label {background-color: #d4ebff;}#sk-container-id-5 div.sk-label input.sk-toggleable__control:checked~label.sk-toggleable__label {background-color: #d4ebff;}#sk-container-id-5 input.sk-hidden--visually {border: 0;clip: rect(1px 1px 1px 1px);clip: rect(1px, 1px, 1px, 1px);height: 1px;margin: -1px;overflow: hidden;padding: 0;position: absolute;width: 1px;}#sk-container-id-5 div.sk-estimator {font-family: monospace;background-color: #f0f8ff;border: 1px dotted black;border-radius: 0.25em;box-sizing: border-box;margin-bottom: 0.5em;}#sk-container-id-5 div.sk-estimator:hover {background-color: #d4ebff;}#sk-container-id-5 div.sk-parallel-item::after {content: \"\";width: 100%;border-bottom: 1px solid gray;flex-grow: 1;}#sk-container-id-5 div.sk-label:hover label.sk-toggleable__label {background-color: #d4ebff;}#sk-container-id-5 div.sk-serial::before {content: \"\";position: absolute;border-left: 1px solid gray;box-sizing: border-box;top: 0;bottom: 0;left: 50%;z-index: 0;}#sk-container-id-5 div.sk-serial {display: flex;flex-direction: column;align-items: center;background-color: white;padding-right: 0.2em;padding-left: 0.2em;position: relative;}#sk-container-id-5 div.sk-item {position: relative;z-index: 1;}#sk-container-id-5 div.sk-parallel {display: flex;align-items: stretch;justify-content: center;background-color: white;position: relative;}#sk-container-id-5 div.sk-item::before, #sk-container-id-5 div.sk-parallel-item::before {content: \"\";position: absolute;border-left: 1px solid gray;box-sizing: border-box;top: 0;bottom: 0;left: 50%;z-index: -1;}#sk-container-id-5 div.sk-parallel-item {display: flex;flex-direction: column;z-index: 1;position: relative;background-color: white;}#sk-container-id-5 div.sk-parallel-item:first-child::after {align-self: flex-end;width: 50%;}#sk-container-id-5 div.sk-parallel-item:last-child::after {align-self: flex-start;width: 50%;}#sk-container-id-5 div.sk-parallel-item:only-child::after {width: 0;}#sk-container-id-5 div.sk-dashed-wrapped {border: 1px dashed gray;margin: 0 0.4em 0.5em 0.4em;box-sizing: border-box;padding-bottom: 0.4em;background-color: white;}#sk-container-id-5 div.sk-label label {font-family: monospace;font-weight: bold;display: inline-block;line-height: 1.2em;}#sk-container-id-5 div.sk-label-container {text-align: center;}#sk-container-id-5 div.sk-container {/* jupyter's `normalize.less` sets `[hidden] { display: none; }` but bootstrap.min.css set `[hidden] { display: none !important; }` so we also need the `!important` here to be able to override the default hidden behavior on the sphinx rendered scikit-learn.org. See: https://github.com/scikit-learn/scikit-learn/issues/21755 */display: inline-block !important;position: relative;}#sk-container-id-5 div.sk-text-repr-fallback {display: none;}</style><div id=\"sk-container-id-5\" class=\"sk-top-container\"><div class=\"sk-text-repr-fallback\"><pre>GradientBoostingClassifier()</pre><b>In a Jupyter environment, please rerun this cell to show the HTML representation or trust the notebook. <br />On GitHub, the HTML representation is unable to render, please try loading this page with nbviewer.org.</b></div><div class=\"sk-container\" hidden><div class=\"sk-item\"><div class=\"sk-estimator sk-toggleable\"><input class=\"sk-toggleable__control sk-hidden--visually\" id=\"sk-estimator-id-7\" type=\"checkbox\" checked><label for=\"sk-estimator-id-7\" class=\"sk-toggleable__label sk-toggleable__label-arrow\">GradientBoostingClassifier</label><div class=\"sk-toggleable__content\"><pre>GradientBoostingClassifier()</pre></div></div></div></div></div>"
      ],
      "text/plain": [
       "GradientBoostingClassifier()"
      ]
     },
     "execution_count": 77,
     "metadata": {},
     "output_type": "execute_result"
    }
   ],
   "source": [
    "# import GradientBoostingClassifier from sklearn.ensemble model\n",
    "from sklearn.ensemble import GradientBoostingClassifier\n",
    "\n",
    "# Create an instance of GradientBoostingClassifier\n",
    "GB_clf = GradientBoostingClassifier()\n",
    "\n",
    "# Fit the GradientBoostingClassifier model to the training data\n",
    "GB_clf.fit(x_train_scaler, y_train)"
   ]
  },
  {
   "cell_type": "code",
   "execution_count": 78,
   "id": "22cb07f9",
   "metadata": {},
   "outputs": [],
   "source": [
    "# Predict the target variable for the train and test dataset using the trained Gradient boosting model\n",
    "GB_y_train_pred = GB_clf.predict(x_train_scaler)\n",
    "GB_y_test_pred = GB_clf.predict(x_test_scaler)"
   ]
  },
  {
   "cell_type": "markdown",
   "id": "f56bd01b",
   "metadata": {},
   "source": [
    "##### 2.2.3.2 Performance evaluation for Gradient boosting\n",
    "##### 2.2.3.2.1 Calculation of MSE for train and test dataset "
   ]
  },
  {
   "cell_type": "code",
   "execution_count": 79,
   "id": "bf133815",
   "metadata": {},
   "outputs": [
    {
     "name": "stdout",
     "output_type": "stream",
     "text": [
      "2.1807054326676746e-05\n"
     ]
    }
   ],
   "source": [
    "# Calculate mean squared error for training dataset of gradient boosting\n",
    "GB_train_mse = mean_squared_error(y_train, GB_y_train_pred)\n",
    "\n",
    "# Print \"MSE\" of train dataset for gradient boosting\n",
    "print(GB_train_mse) "
   ]
  },
  {
   "cell_type": "code",
   "execution_count": 80,
   "id": "94b875c0",
   "metadata": {},
   "outputs": [
    {
     "name": "stdout",
     "output_type": "stream",
     "text": [
      "2.3575193866677564e-05\n"
     ]
    }
   ],
   "source": [
    "# Calculate mean squared error for testing dataset of gradient boosting\n",
    "GB_test_mse = mean_squared_error(y_test, GB_y_test_pred)\n",
    "\n",
    "# Print \"MSE\" of test dataset for gradient boosting\n",
    "print(GB_test_mse) "
   ]
  },
  {
   "cell_type": "markdown",
   "id": "febc52b2",
   "metadata": {},
   "source": [
    "##### 2.2.3.2.2 Calculation of MAE for train and test dataset "
   ]
  },
  {
   "cell_type": "code",
   "execution_count": 81,
   "id": "a773cdeb",
   "metadata": {},
   "outputs": [
    {
     "name": "stdout",
     "output_type": "stream",
     "text": [
      "2.1807054326676746e-05\n"
     ]
    }
   ],
   "source": [
    "# Calculate mean absolute error for training dataset of gradient boosting\n",
    "GB_train_mae = mean_absolute_error(y_train, GB_y_train_pred)\n",
    "\n",
    "# Print \"MAE\" of train dataset for gradient boosting\n",
    "print(GB_train_mae)"
   ]
  },
  {
   "cell_type": "code",
   "execution_count": 82,
   "id": "140445c9",
   "metadata": {},
   "outputs": [
    {
     "name": "stdout",
     "output_type": "stream",
     "text": [
      "2.3575193866677564e-05\n"
     ]
    }
   ],
   "source": [
    "# Calculate mean absolute error for testing dataset of gradient boosting\n",
    "GB_test_mae = mean_absolute_error(y_test, GB_y_test_pred)\n",
    "\n",
    "# Print \"MAE\" of test dataset for gradient boosting\n",
    "print(GB_test_mae)"
   ]
  },
  {
   "cell_type": "markdown",
   "id": "a1f302f3",
   "metadata": {},
   "source": [
    "##### 2.2.3.2.3 Calculation of confusion matrix for train and test dataset "
   ]
  },
  {
   "cell_type": "code",
   "execution_count": 83,
   "id": "8999981e",
   "metadata": {},
   "outputs": [
    {
     "name": "stdout",
     "output_type": "stream",
     "text": [
      "[[5089974     111]\n",
      " [      0      11]]\n"
     ]
    }
   ],
   "source": [
    "# Confusion matrix calculation for train dataset by grid search of gradient boosting\n",
    "GB_train_conf_mat = confusion_matrix(y_train, GB_y_train_pred)\n",
    "\n",
    "# Print confusion matrix of train dataset by grid search of Gradient boosting\n",
    "print(GB_train_conf_mat)"
   ]
  },
  {
   "cell_type": "code",
   "execution_count": 84,
   "id": "92c3ad42",
   "metadata": {},
   "outputs": [
    {
     "name": "stdout",
     "output_type": "stream",
     "text": [
      "[[1272489      30]\n",
      " [      0       5]]\n"
     ]
    }
   ],
   "source": [
    "# Confusion matrix calculation for test dataset by grid search of gradient boosting\n",
    "GB_test_conf_mat = confusion_matrix(y_test, GB_y_test_pred)\n",
    "\n",
    "# Print confusion matrix of test dataset by grid search of Gradient boosting\n",
    "print(GB_test_conf_mat)"
   ]
  },
  {
   "cell_type": "markdown",
   "id": "8050b141",
   "metadata": {},
   "source": [
    "##### 2.2.3.2.4 Calculation of accuracy score for train and test dataset "
   ]
  },
  {
   "cell_type": "code",
   "execution_count": 85,
   "id": "4d298b51",
   "metadata": {},
   "outputs": [
    {
     "name": "stdout",
     "output_type": "stream",
     "text": [
      "0.9999781929456734\n"
     ]
    }
   ],
   "source": [
    "# accuracy_score calculation for the train dataset's for actual values (y_train) and predicted values (GB_y_train_pred)\n",
    "GB_train_acc_score = accuracy_score(y_train, GB_y_train_pred)\n",
    "\n",
    "## Print accuracy_score of train dataset by grid search of gradient boosting\n",
    "print(GB_train_acc_score)"
   ]
  },
  {
   "cell_type": "code",
   "execution_count": 86,
   "id": "17a46c74",
   "metadata": {},
   "outputs": [
    {
     "name": "stdout",
     "output_type": "stream",
     "text": [
      "0.9999764248061334\n"
     ]
    }
   ],
   "source": [
    "# accuracy_score calculation for the train dataset's for actual values (y_test) and predicted values (GB_y_test_pred)\n",
    "GB_test_acc_score = accuracy_score(y_test, GB_y_test_pred)\n",
    "\n",
    "## Print accuracy_score of test dataset by grid search of gradient boosting\n",
    "print(GB_test_acc_score)"
   ]
  },
  {
   "cell_type": "markdown",
   "id": "fb139a17",
   "metadata": {},
   "source": [
    "##### 2.2.3.2.5 Checking for overfitting and underfitting "
   ]
  },
  {
   "cell_type": "code",
   "execution_count": 87,
   "id": "60b34378",
   "metadata": {},
   "outputs": [
    {
     "name": "stdout",
     "output_type": "stream",
     "text": [
      "The 'Gradient boosting' trained model is Well-fitted.\n"
     ]
    }
   ],
   "source": [
    "# Check for overfitting\n",
    "if GB_train_acc_score > GB_test_acc_score + 0.15:  # Example threshold for overfitting\n",
    "    print(\"The 'Gradient boosting' trained model is overfitting.\")\n",
    "elif GB_train_acc_score < GB_test_acc_score - 0.15:  # Example threshold for underfitting\n",
    "    print(\"The 'Gradient boosting' trained model is underfitting.\")\n",
    "else:\n",
    "    print(\"The 'Gradient boosting' trained model is Well-fitted.\")"
   ]
  },
  {
   "cell_type": "markdown",
   "id": "e35c45cf",
   "metadata": {},
   "source": [
    "### 2.2.4 Ada boosting\n",
    "#### https://scikit-learn.org/stable/modules/generated/sklearn.ensemble.AdaBoostRegressor.html\n",
    "##### 2.2.4.1 Performing  Ada boosting by using sklearn model on \"y_train\" and \"x_train\" varaibles "
   ]
  },
  {
   "cell_type": "code",
   "execution_count": 88,
   "id": "ef98f6e5",
   "metadata": {},
   "outputs": [
    {
     "data": {
      "text/html": [
       "<style>#sk-container-id-6 {color: black;background-color: white;}#sk-container-id-6 pre{padding: 0;}#sk-container-id-6 div.sk-toggleable {background-color: white;}#sk-container-id-6 label.sk-toggleable__label {cursor: pointer;display: block;width: 100%;margin-bottom: 0;padding: 0.3em;box-sizing: border-box;text-align: center;}#sk-container-id-6 label.sk-toggleable__label-arrow:before {content: \"▸\";float: left;margin-right: 0.25em;color: #696969;}#sk-container-id-6 label.sk-toggleable__label-arrow:hover:before {color: black;}#sk-container-id-6 div.sk-estimator:hover label.sk-toggleable__label-arrow:before {color: black;}#sk-container-id-6 div.sk-toggleable__content {max-height: 0;max-width: 0;overflow: hidden;text-align: left;background-color: #f0f8ff;}#sk-container-id-6 div.sk-toggleable__content pre {margin: 0.2em;color: black;border-radius: 0.25em;background-color: #f0f8ff;}#sk-container-id-6 input.sk-toggleable__control:checked~div.sk-toggleable__content {max-height: 200px;max-width: 100%;overflow: auto;}#sk-container-id-6 input.sk-toggleable__control:checked~label.sk-toggleable__label-arrow:before {content: \"▾\";}#sk-container-id-6 div.sk-estimator input.sk-toggleable__control:checked~label.sk-toggleable__label {background-color: #d4ebff;}#sk-container-id-6 div.sk-label input.sk-toggleable__control:checked~label.sk-toggleable__label {background-color: #d4ebff;}#sk-container-id-6 input.sk-hidden--visually {border: 0;clip: rect(1px 1px 1px 1px);clip: rect(1px, 1px, 1px, 1px);height: 1px;margin: -1px;overflow: hidden;padding: 0;position: absolute;width: 1px;}#sk-container-id-6 div.sk-estimator {font-family: monospace;background-color: #f0f8ff;border: 1px dotted black;border-radius: 0.25em;box-sizing: border-box;margin-bottom: 0.5em;}#sk-container-id-6 div.sk-estimator:hover {background-color: #d4ebff;}#sk-container-id-6 div.sk-parallel-item::after {content: \"\";width: 100%;border-bottom: 1px solid gray;flex-grow: 1;}#sk-container-id-6 div.sk-label:hover label.sk-toggleable__label {background-color: #d4ebff;}#sk-container-id-6 div.sk-serial::before {content: \"\";position: absolute;border-left: 1px solid gray;box-sizing: border-box;top: 0;bottom: 0;left: 50%;z-index: 0;}#sk-container-id-6 div.sk-serial {display: flex;flex-direction: column;align-items: center;background-color: white;padding-right: 0.2em;padding-left: 0.2em;position: relative;}#sk-container-id-6 div.sk-item {position: relative;z-index: 1;}#sk-container-id-6 div.sk-parallel {display: flex;align-items: stretch;justify-content: center;background-color: white;position: relative;}#sk-container-id-6 div.sk-item::before, #sk-container-id-6 div.sk-parallel-item::before {content: \"\";position: absolute;border-left: 1px solid gray;box-sizing: border-box;top: 0;bottom: 0;left: 50%;z-index: -1;}#sk-container-id-6 div.sk-parallel-item {display: flex;flex-direction: column;z-index: 1;position: relative;background-color: white;}#sk-container-id-6 div.sk-parallel-item:first-child::after {align-self: flex-end;width: 50%;}#sk-container-id-6 div.sk-parallel-item:last-child::after {align-self: flex-start;width: 50%;}#sk-container-id-6 div.sk-parallel-item:only-child::after {width: 0;}#sk-container-id-6 div.sk-dashed-wrapped {border: 1px dashed gray;margin: 0 0.4em 0.5em 0.4em;box-sizing: border-box;padding-bottom: 0.4em;background-color: white;}#sk-container-id-6 div.sk-label label {font-family: monospace;font-weight: bold;display: inline-block;line-height: 1.2em;}#sk-container-id-6 div.sk-label-container {text-align: center;}#sk-container-id-6 div.sk-container {/* jupyter's `normalize.less` sets `[hidden] { display: none; }` but bootstrap.min.css set `[hidden] { display: none !important; }` so we also need the `!important` here to be able to override the default hidden behavior on the sphinx rendered scikit-learn.org. See: https://github.com/scikit-learn/scikit-learn/issues/21755 */display: inline-block !important;position: relative;}#sk-container-id-6 div.sk-text-repr-fallback {display: none;}</style><div id=\"sk-container-id-6\" class=\"sk-top-container\"><div class=\"sk-text-repr-fallback\"><pre>AdaBoostClassifier(learning_rate=0.02)</pre><b>In a Jupyter environment, please rerun this cell to show the HTML representation or trust the notebook. <br />On GitHub, the HTML representation is unable to render, please try loading this page with nbviewer.org.</b></div><div class=\"sk-container\" hidden><div class=\"sk-item\"><div class=\"sk-estimator sk-toggleable\"><input class=\"sk-toggleable__control sk-hidden--visually\" id=\"sk-estimator-id-8\" type=\"checkbox\" checked><label for=\"sk-estimator-id-8\" class=\"sk-toggleable__label sk-toggleable__label-arrow\">AdaBoostClassifier</label><div class=\"sk-toggleable__content\"><pre>AdaBoostClassifier(learning_rate=0.02)</pre></div></div></div></div></div>"
      ],
      "text/plain": [
       "AdaBoostClassifier(learning_rate=0.02)"
      ]
     },
     "execution_count": 88,
     "metadata": {},
     "output_type": "execute_result"
    }
   ],
   "source": [
    "# import AdaBoostClassifierfrom sklearn.ensemble model\n",
    "from sklearn.ensemble import AdaBoostClassifier\n",
    "\n",
    "# Create an instance of AdaBoostClassifier with specified parameters\n",
    "Ada_clf = AdaBoostClassifier(learning_rate=0.02, n_estimators=50)\n",
    "\n",
    "# Fit the AdaBoostClassifier model to the training data\n",
    "Ada_clf.fit(x_train_scaler, y_train)"
   ]
  },
  {
   "cell_type": "code",
   "execution_count": 89,
   "id": "24382eb5",
   "metadata": {},
   "outputs": [],
   "source": [
    "# Predict the target variable for the train and test dataset using the trained Ada boosting model\n",
    "Ada_y_train_pred = Ada_clf.predict(x_train_scaler)\n",
    "Ada_y_test_pred = Ada_clf.predict(x_test_scaler)"
   ]
  },
  {
   "cell_type": "markdown",
   "id": "74a3c777",
   "metadata": {},
   "source": [
    "##### 2.2.4.2 Performance evaluation for Ada boosting\n",
    "##### 2.2.4.2.1 Calculation of MSE for train and test dataset "
   ]
  },
  {
   "cell_type": "code",
   "execution_count": 90,
   "id": "61e68f08",
   "metadata": {},
   "outputs": [
    {
     "name": "stdout",
     "output_type": "stream",
     "text": [
      "2.1610594377787766e-06\n"
     ]
    }
   ],
   "source": [
    "# Calculate mean squared error for training dataset of ada boosting\n",
    "Ada_train_mse = mean_squared_error(y_train, Ada_y_train_pred)\n",
    "\n",
    "# Print \"MSE\" of train dataset for ada boosting\n",
    "print(Ada_train_mse) "
   ]
  },
  {
   "cell_type": "code",
   "execution_count": 91,
   "id": "873529e9",
   "metadata": {},
   "outputs": [
    {
     "name": "stdout",
     "output_type": "stream",
     "text": [
      "3.929198977779594e-06\n"
     ]
    }
   ],
   "source": [
    "# Calculate mean squared error for testing dataset of ada boosting\n",
    "Ada_test_mse = mean_squared_error(y_test, Ada_y_test_pred)\n",
    "\n",
    "# Print \"MSE\" of test dataset for ada boosting\n",
    "print(Ada_test_mse) "
   ]
  },
  {
   "cell_type": "markdown",
   "id": "10a6f03d",
   "metadata": {},
   "source": [
    "##### 2.2.4.2.2 Calculation of MAE for train and test dataset "
   ]
  },
  {
   "cell_type": "code",
   "execution_count": 92,
   "id": "14d9a25b",
   "metadata": {},
   "outputs": [
    {
     "name": "stdout",
     "output_type": "stream",
     "text": [
      "2.1610594377787766e-06\n"
     ]
    }
   ],
   "source": [
    "# Calculate mean absolute error for training dataset of ada boosting\n",
    "Ada_train_mae = mean_absolute_error(y_train, Ada_y_train_pred)\n",
    "\n",
    "# Print \"MAE\" of train dataset for ada boosting\n",
    "print(Ada_train_mae)"
   ]
  },
  {
   "cell_type": "code",
   "execution_count": 93,
   "id": "96c4a212",
   "metadata": {},
   "outputs": [
    {
     "name": "stdout",
     "output_type": "stream",
     "text": [
      "3.929198977779594e-06\n"
     ]
    }
   ],
   "source": [
    "# Calculate mean absolute error for testing dataset of ada boosting\n",
    "Ada_test_mae = mean_absolute_error(y_test, Ada_y_test_pred)\n",
    "\n",
    "# Print \"MAE\" of test dataset for ada boosting\n",
    "print(Ada_test_mae)"
   ]
  },
  {
   "cell_type": "markdown",
   "id": "1c29ba2f",
   "metadata": {},
   "source": [
    "##### 2.2.4.2.3 Calculation of confusion matrix for train and test dataset "
   ]
  },
  {
   "cell_type": "code",
   "execution_count": 94,
   "id": "83734f2c",
   "metadata": {},
   "outputs": [
    {
     "name": "stdout",
     "output_type": "stream",
     "text": [
      "[[5090085       0]\n",
      " [     11       0]]\n"
     ]
    }
   ],
   "source": [
    "# Confusion matrix calculation for train dataset of ada boosting\n",
    "Ada_train_conf_mat = confusion_matrix(y_train, Ada_y_train_pred)\n",
    "\n",
    "# Print confusion matrix of train dataset of ada boosting\n",
    "print(Ada_train_conf_mat)"
   ]
  },
  {
   "cell_type": "code",
   "execution_count": 95,
   "id": "b2748f45",
   "metadata": {},
   "outputs": [
    {
     "name": "stdout",
     "output_type": "stream",
     "text": [
      "[[1272519       0]\n",
      " [      5       0]]\n"
     ]
    }
   ],
   "source": [
    "# Confusion matrix calculation for test dataset of ada boosting\n",
    "Ada_test_conf_mat = confusion_matrix(y_test, Ada_y_test_pred)\n",
    "\n",
    "# Print confusion matrix of test dataset of ada boosting\n",
    "print(Ada_test_conf_mat)"
   ]
  },
  {
   "cell_type": "markdown",
   "id": "614de0f9",
   "metadata": {},
   "source": [
    "##### 2.2.4.2.4 Calculation of accuracy score for train and test dataset "
   ]
  },
  {
   "cell_type": "code",
   "execution_count": 96,
   "id": "ef94f42e",
   "metadata": {},
   "outputs": [
    {
     "name": "stdout",
     "output_type": "stream",
     "text": [
      "0.9999978389405623\n"
     ]
    }
   ],
   "source": [
    "# accuracy_score calculation for the train dataset's for actual values (y_train) and predicted values (Ada_y_train_pred)\n",
    "Ada_train_acc_score = accuracy_score(y_train, Ada_y_train_pred)\n",
    "\n",
    "## Print accuracy_score of train dataset of ada boosting\n",
    "print(Ada_train_acc_score)"
   ]
  },
  {
   "cell_type": "code",
   "execution_count": 97,
   "id": "13250dbe",
   "metadata": {},
   "outputs": [
    {
     "name": "stdout",
     "output_type": "stream",
     "text": [
      "0.9999960708010223\n"
     ]
    }
   ],
   "source": [
    "# accuracy_score calculation for the test dataset's for actual values (y_test) and predicted values (Ada_y_test_pred)\n",
    "Ada_test_acc_score = accuracy_score(y_test, Ada_y_test_pred)\n",
    "\n",
    "# Print R-square of test dataset for ada boosting\n",
    "print(Ada_test_acc_score)"
   ]
  },
  {
   "cell_type": "markdown",
   "id": "b7371c79",
   "metadata": {},
   "source": [
    "##### 2.2.4.2.5 Checking for overfitting and underfitting "
   ]
  },
  {
   "cell_type": "code",
   "execution_count": 98,
   "id": "154e5371",
   "metadata": {},
   "outputs": [
    {
     "name": "stdout",
     "output_type": "stream",
     "text": [
      "The 'ADA boosting' trained model is Well-fitted.\n"
     ]
    }
   ],
   "source": [
    "# Check for overfitting\n",
    "if Ada_train_acc_score > Ada_test_acc_score + 0.15:  # Example threshold for overfitting\n",
    "    print(\"The 'ADA boosting' trained model is overfitting.\")\n",
    "elif Ada_train_acc_score < Ada_test_acc_score - 0.15:  # Example threshold for underfitting\n",
    "    print(\"The 'ADA boosting' trained model is underfitting.\")\n",
    "else:\n",
    "    print(\"The 'ADA boosting' trained model is Well-fitted.\")"
   ]
  },
  {
   "cell_type": "markdown",
   "id": "355872ca",
   "metadata": {},
   "source": [
    "### 2.2.5 XG Boost\n",
    "#### https://xgboost.readthedocs.io/en/stable/get_started.html\n",
    "##### 2.2.5.1 Performing  Ada boosting by using sklearn model on \"y_train\" and \"x_train\" varaibles "
   ]
  },
  {
   "cell_type": "code",
   "execution_count": 99,
   "id": "1ffad839",
   "metadata": {},
   "outputs": [
    {
     "name": "stdout",
     "output_type": "stream",
     "text": [
      "Defaulting to user installation because normal site-packages is not writeable\n",
      "Requirement already satisfied: xgboost in c:\\users\\zoom\\appdata\\roaming\\python\\python311\\site-packages (2.0.3)\n",
      "Requirement already satisfied: numpy in c:\\programdata\\anaconda3\\lib\\site-packages (from xgboost) (1.26.4)\n",
      "Requirement already satisfied: scipy in c:\\programdata\\anaconda3\\lib\\site-packages (from xgboost) (1.11.4)\n",
      "Note: you may need to restart the kernel to use updated packages.\n"
     ]
    }
   ],
   "source": [
    "pip install xgboost"
   ]
  },
  {
   "cell_type": "code",
   "execution_count": 100,
   "id": "34824bc7",
   "metadata": {},
   "outputs": [
    {
     "data": {
      "text/html": [
       "<style>#sk-container-id-7 {color: black;background-color: white;}#sk-container-id-7 pre{padding: 0;}#sk-container-id-7 div.sk-toggleable {background-color: white;}#sk-container-id-7 label.sk-toggleable__label {cursor: pointer;display: block;width: 100%;margin-bottom: 0;padding: 0.3em;box-sizing: border-box;text-align: center;}#sk-container-id-7 label.sk-toggleable__label-arrow:before {content: \"▸\";float: left;margin-right: 0.25em;color: #696969;}#sk-container-id-7 label.sk-toggleable__label-arrow:hover:before {color: black;}#sk-container-id-7 div.sk-estimator:hover label.sk-toggleable__label-arrow:before {color: black;}#sk-container-id-7 div.sk-toggleable__content {max-height: 0;max-width: 0;overflow: hidden;text-align: left;background-color: #f0f8ff;}#sk-container-id-7 div.sk-toggleable__content pre {margin: 0.2em;color: black;border-radius: 0.25em;background-color: #f0f8ff;}#sk-container-id-7 input.sk-toggleable__control:checked~div.sk-toggleable__content {max-height: 200px;max-width: 100%;overflow: auto;}#sk-container-id-7 input.sk-toggleable__control:checked~label.sk-toggleable__label-arrow:before {content: \"▾\";}#sk-container-id-7 div.sk-estimator input.sk-toggleable__control:checked~label.sk-toggleable__label {background-color: #d4ebff;}#sk-container-id-7 div.sk-label input.sk-toggleable__control:checked~label.sk-toggleable__label {background-color: #d4ebff;}#sk-container-id-7 input.sk-hidden--visually {border: 0;clip: rect(1px 1px 1px 1px);clip: rect(1px, 1px, 1px, 1px);height: 1px;margin: -1px;overflow: hidden;padding: 0;position: absolute;width: 1px;}#sk-container-id-7 div.sk-estimator {font-family: monospace;background-color: #f0f8ff;border: 1px dotted black;border-radius: 0.25em;box-sizing: border-box;margin-bottom: 0.5em;}#sk-container-id-7 div.sk-estimator:hover {background-color: #d4ebff;}#sk-container-id-7 div.sk-parallel-item::after {content: \"\";width: 100%;border-bottom: 1px solid gray;flex-grow: 1;}#sk-container-id-7 div.sk-label:hover label.sk-toggleable__label {background-color: #d4ebff;}#sk-container-id-7 div.sk-serial::before {content: \"\";position: absolute;border-left: 1px solid gray;box-sizing: border-box;top: 0;bottom: 0;left: 50%;z-index: 0;}#sk-container-id-7 div.sk-serial {display: flex;flex-direction: column;align-items: center;background-color: white;padding-right: 0.2em;padding-left: 0.2em;position: relative;}#sk-container-id-7 div.sk-item {position: relative;z-index: 1;}#sk-container-id-7 div.sk-parallel {display: flex;align-items: stretch;justify-content: center;background-color: white;position: relative;}#sk-container-id-7 div.sk-item::before, #sk-container-id-7 div.sk-parallel-item::before {content: \"\";position: absolute;border-left: 1px solid gray;box-sizing: border-box;top: 0;bottom: 0;left: 50%;z-index: -1;}#sk-container-id-7 div.sk-parallel-item {display: flex;flex-direction: column;z-index: 1;position: relative;background-color: white;}#sk-container-id-7 div.sk-parallel-item:first-child::after {align-self: flex-end;width: 50%;}#sk-container-id-7 div.sk-parallel-item:last-child::after {align-self: flex-start;width: 50%;}#sk-container-id-7 div.sk-parallel-item:only-child::after {width: 0;}#sk-container-id-7 div.sk-dashed-wrapped {border: 1px dashed gray;margin: 0 0.4em 0.5em 0.4em;box-sizing: border-box;padding-bottom: 0.4em;background-color: white;}#sk-container-id-7 div.sk-label label {font-family: monospace;font-weight: bold;display: inline-block;line-height: 1.2em;}#sk-container-id-7 div.sk-label-container {text-align: center;}#sk-container-id-7 div.sk-container {/* jupyter's `normalize.less` sets `[hidden] { display: none; }` but bootstrap.min.css set `[hidden] { display: none !important; }` so we also need the `!important` here to be able to override the default hidden behavior on the sphinx rendered scikit-learn.org. See: https://github.com/scikit-learn/scikit-learn/issues/21755 */display: inline-block !important;position: relative;}#sk-container-id-7 div.sk-text-repr-fallback {display: none;}</style><div id=\"sk-container-id-7\" class=\"sk-top-container\"><div class=\"sk-text-repr-fallback\"><pre>XGBClassifier(base_score=None, booster=None, callbacks=None,\n",
       "              colsample_bylevel=None, colsample_bynode=None,\n",
       "              colsample_bytree=None, device=None, early_stopping_rounds=None,\n",
       "              enable_categorical=False, eval_metric=None, feature_types=None,\n",
       "              gamma=None, grow_policy=None, importance_type=None,\n",
       "              interaction_constraints=None, learning_rate=0.3, max_bin=None,\n",
       "              max_cat_threshold=None, max_cat_to_onehot=None,\n",
       "              max_delta_step=None, max_depth=1, max_leaves=None,\n",
       "              min_child_weight=None, missing=nan, monotone_constraints=None,\n",
       "              multi_strategy=None, n_estimators=50, n_jobs=-1,\n",
       "              num_parallel_tree=None, random_state=None, ...)</pre><b>In a Jupyter environment, please rerun this cell to show the HTML representation or trust the notebook. <br />On GitHub, the HTML representation is unable to render, please try loading this page with nbviewer.org.</b></div><div class=\"sk-container\" hidden><div class=\"sk-item\"><div class=\"sk-estimator sk-toggleable\"><input class=\"sk-toggleable__control sk-hidden--visually\" id=\"sk-estimator-id-9\" type=\"checkbox\" checked><label for=\"sk-estimator-id-9\" class=\"sk-toggleable__label sk-toggleable__label-arrow\">XGBClassifier</label><div class=\"sk-toggleable__content\"><pre>XGBClassifier(base_score=None, booster=None, callbacks=None,\n",
       "              colsample_bylevel=None, colsample_bynode=None,\n",
       "              colsample_bytree=None, device=None, early_stopping_rounds=None,\n",
       "              enable_categorical=False, eval_metric=None, feature_types=None,\n",
       "              gamma=None, grow_policy=None, importance_type=None,\n",
       "              interaction_constraints=None, learning_rate=0.3, max_bin=None,\n",
       "              max_cat_threshold=None, max_cat_to_onehot=None,\n",
       "              max_delta_step=None, max_depth=1, max_leaves=None,\n",
       "              min_child_weight=None, missing=nan, monotone_constraints=None,\n",
       "              multi_strategy=None, n_estimators=50, n_jobs=-1,\n",
       "              num_parallel_tree=None, random_state=None, ...)</pre></div></div></div></div></div>"
      ],
      "text/plain": [
       "XGBClassifier(base_score=None, booster=None, callbacks=None,\n",
       "              colsample_bylevel=None, colsample_bynode=None,\n",
       "              colsample_bytree=None, device=None, early_stopping_rounds=None,\n",
       "              enable_categorical=False, eval_metric=None, feature_types=None,\n",
       "              gamma=None, grow_policy=None, importance_type=None,\n",
       "              interaction_constraints=None, learning_rate=0.3, max_bin=None,\n",
       "              max_cat_threshold=None, max_cat_to_onehot=None,\n",
       "              max_delta_step=None, max_depth=1, max_leaves=None,\n",
       "              min_child_weight=None, missing=nan, monotone_constraints=None,\n",
       "              multi_strategy=None, n_estimators=50, n_jobs=-1,\n",
       "              num_parallel_tree=None, random_state=None, ...)"
      ]
     },
     "execution_count": 100,
     "metadata": {},
     "output_type": "execute_result"
    }
   ],
   "source": [
    "import xgboost as xgb  # import Xgboost\n",
    "\n",
    "# Create an XGBoost Classifier with specified hyperparameters\n",
    "Xgb_clf = xgb.XGBClassifier(max_depth=1, n_estimators=50, learning_rate=0.3, n_jobs=-1)\n",
    "\n",
    "# Fit the XGBoost model with x_train_scaler and y_train for int data type\n",
    "Xgb_clf.fit(x_train_scaler, y_train)"
   ]
  },
  {
   "cell_type": "code",
   "execution_count": 101,
   "id": "119bd504",
   "metadata": {},
   "outputs": [],
   "source": [
    "# Predict the target variable for the train and test dataset using the trained XG boosting model\n",
    "Xgb_y_train_pred = Xgb_clf.predict(x_train_scaler)\n",
    "Xgb_y_test_pred = Xgb_clf.predict(x_test_scaler)"
   ]
  },
  {
   "cell_type": "markdown",
   "id": "dfe4b8c6",
   "metadata": {},
   "source": [
    "##### 2.2.5.2 Performance evaluation for Xgb boosting\n",
    "##### 2.2.5.2.1 Calculation of MSE for train and test dataset "
   ]
  },
  {
   "cell_type": "code",
   "execution_count": 102,
   "id": "d18bfc27",
   "metadata": {},
   "outputs": [
    {
     "name": "stdout",
     "output_type": "stream",
     "text": [
      "2.1610594377787766e-06\n"
     ]
    }
   ],
   "source": [
    "# Calculate mean squared error for training dataset of xgb boosting\n",
    "Xgb_train_mse = mean_squared_error(y_train, Xgb_y_train_pred)\n",
    "\n",
    "# Print \"MSE\" of train dataset for xgb boosting\n",
    "print(Xgb_train_mse) "
   ]
  },
  {
   "cell_type": "code",
   "execution_count": 103,
   "id": "ebc2b90c",
   "metadata": {},
   "outputs": [
    {
     "name": "stdout",
     "output_type": "stream",
     "text": [
      "3.929198977779594e-06\n"
     ]
    }
   ],
   "source": [
    "# Calculate mean squared error for testing dataset of xgb boosting\n",
    "Xgb_test_mse = mean_squared_error(y_test, Xgb_y_test_pred)\n",
    "\n",
    "# Print \"MSE\" of test dataset for xgb boosting\n",
    "print(Xgb_test_mse) "
   ]
  },
  {
   "cell_type": "markdown",
   "id": "5ab80abc",
   "metadata": {},
   "source": [
    "##### 2.2.5.2.2 Calculation of MAE for train and test dataset "
   ]
  },
  {
   "cell_type": "code",
   "execution_count": 104,
   "id": "817ca745",
   "metadata": {},
   "outputs": [
    {
     "name": "stdout",
     "output_type": "stream",
     "text": [
      "2.1610594377787766e-06\n"
     ]
    }
   ],
   "source": [
    "# Calculate mean absolute error for training dataset of XGb boosting\n",
    "Xgb_train_mae = mean_absolute_error(y_train, Xgb_y_train_pred)\n",
    "\n",
    "# Print \"MAE\" of train dataset for Xgb boosting\n",
    "print(Xgb_train_mae)"
   ]
  },
  {
   "cell_type": "code",
   "execution_count": 105,
   "id": "47fabe0c",
   "metadata": {},
   "outputs": [
    {
     "name": "stdout",
     "output_type": "stream",
     "text": [
      "3.929198977779594e-06\n"
     ]
    }
   ],
   "source": [
    "# Calculate mean absolute error for testing dataset of XGb boosting\n",
    "Xgb_test_mae = mean_absolute_error(y_test, Xgb_y_test_pred)\n",
    "\n",
    "# Print \"MAE\" of test dataset for Xgb boosting\n",
    "print(Xgb_test_mae)"
   ]
  },
  {
   "cell_type": "markdown",
   "id": "3da57a53",
   "metadata": {},
   "source": [
    "##### 2.2.5.2.3 Calculation of confusion matrix for train and test dataset "
   ]
  },
  {
   "cell_type": "code",
   "execution_count": 106,
   "id": "a3c9c72b",
   "metadata": {},
   "outputs": [
    {
     "name": "stdout",
     "output_type": "stream",
     "text": [
      "[[5090085       0]\n",
      " [     11       0]]\n"
     ]
    }
   ],
   "source": [
    "# Confusion matrix calculation for train dataset of Xgb boosting\n",
    "Xgb_train_conf_mat = confusion_matrix(y_train, Xgb_y_train_pred)\n",
    "\n",
    "# Print confusion matrix of train dataset of Xgb boosting\n",
    "print(Xgb_train_conf_mat)"
   ]
  },
  {
   "cell_type": "code",
   "execution_count": 107,
   "id": "a374cfd1",
   "metadata": {},
   "outputs": [
    {
     "name": "stdout",
     "output_type": "stream",
     "text": [
      "[[1272519       0]\n",
      " [      5       0]]\n"
     ]
    }
   ],
   "source": [
    "# Confusion matrix calculation for test dataset of Xgb boosting\n",
    "Xgb_test_conf_mat = confusion_matrix(y_test, Xgb_y_test_pred)\n",
    "\n",
    "# Print confusion matrix of test dataset of Xgb boosting\n",
    "print(Xgb_test_conf_mat)"
   ]
  },
  {
   "cell_type": "markdown",
   "id": "5d07ca40",
   "metadata": {},
   "source": [
    "##### 2.2.5.2.4 Calculation of accuracy score for train and test dataset "
   ]
  },
  {
   "cell_type": "code",
   "execution_count": 108,
   "id": "cadaea4f",
   "metadata": {},
   "outputs": [
    {
     "name": "stdout",
     "output_type": "stream",
     "text": [
      "0.9999978389405623\n"
     ]
    }
   ],
   "source": [
    "# accuracy score calculation for the train dataset's for actual values (y_train) and predicted values (XGb_y_train_pred)\n",
    "Xgb_train_acc_score = accuracy_score(y_train, Xgb_y_train_pred)\n",
    "\n",
    "# Print accuracy score of train dataset for XGb boosting\n",
    "print(Xgb_train_acc_score)"
   ]
  },
  {
   "cell_type": "code",
   "execution_count": 109,
   "id": "9bac8df5",
   "metadata": {},
   "outputs": [
    {
     "name": "stdout",
     "output_type": "stream",
     "text": [
      "0.9999960708010223\n"
     ]
    }
   ],
   "source": [
    "# accuracy score calculation for the test dataset's for actual values (y_test) and predicted values (XGb_y_test_pred)\n",
    "Xgb_test_acc_score = accuracy_score(y_test, Xgb_y_test_pred)\n",
    "\n",
    "# Print accuracy score of test dataset for XGb boosting\n",
    "print(Xgb_test_acc_score)"
   ]
  },
  {
   "cell_type": "markdown",
   "id": "c68a2191",
   "metadata": {},
   "source": [
    "##### 2.2.5.2.5 Checking for overfitting and underfitting "
   ]
  },
  {
   "cell_type": "code",
   "execution_count": 110,
   "id": "08f820fa",
   "metadata": {},
   "outputs": [
    {
     "name": "stdout",
     "output_type": "stream",
     "text": [
      "The 'Xgb boosting' trained model is Well-fitted.\n"
     ]
    }
   ],
   "source": [
    "# Check for overfitting\n",
    "if Xgb_train_acc_score > Xgb_test_acc_score + 0.15:  # Example threshold for overfitting\n",
    "    print(\"The 'Xgb boosting' trained model is overfitting.\")\n",
    "elif Xgb_train_acc_score < Xgb_test_acc_score - 0.15:  # Example threshold for underfitting\n",
    "    print(\"The 'Xgb boosting' trained model is underfitting.\")\n",
    "else:\n",
    "    print(\"The 'Xgb boosting' trained model is Well-fitted.\")"
   ]
  },
  {
   "cell_type": "code",
   "execution_count": 111,
   "id": "6f8a1171",
   "metadata": {},
   "outputs": [
    {
     "data": {
      "image/png": "[encoded data removed]",
      "text/plain": [
       "<Figure size 640x480 with 1 Axes>"
      ]
     },
     "metadata": {},
     "output_type": "display_data"
    }
   ],
   "source": [
    "# Import matplot from matplotlib.pyplot\n",
    "import matplotlib.pyplot as plt\n",
    "\n",
    "# Plot feature importance\n",
    "xgb.plot_importance(Xgb_clf)\n",
    "plt.show()"
   ]
  },
  {
   "cell_type": "markdown",
   "id": "d5210fd4",
   "metadata": {},
   "source": [
    "### 2.2.6 Classification Decision Tree\n",
    "##### 2.2.6.1 Performing Classification Decision Tree technique by using sklearn model on \"y_train\" and \"x_train\" varaibles "
   ]
  },
  {
   "cell_type": "code",
   "execution_count": 112,
   "id": "df482437",
   "metadata": {},
   "outputs": [
    {
     "data": {
      "text/html": [
       "<style>#sk-container-id-8 {color: black;background-color: white;}#sk-container-id-8 pre{padding: 0;}#sk-container-id-8 div.sk-toggleable {background-color: white;}#sk-container-id-8 label.sk-toggleable__label {cursor: pointer;display: block;width: 100%;margin-bottom: 0;padding: 0.3em;box-sizing: border-box;text-align: center;}#sk-container-id-8 label.sk-toggleable__label-arrow:before {content: \"▸\";float: left;margin-right: 0.25em;color: #696969;}#sk-container-id-8 label.sk-toggleable__label-arrow:hover:before {color: black;}#sk-container-id-8 div.sk-estimator:hover label.sk-toggleable__label-arrow:before {color: black;}#sk-container-id-8 div.sk-toggleable__content {max-height: 0;max-width: 0;overflow: hidden;text-align: left;background-color: #f0f8ff;}#sk-container-id-8 div.sk-toggleable__content pre {margin: 0.2em;color: black;border-radius: 0.25em;background-color: #f0f8ff;}#sk-container-id-8 input.sk-toggleable__control:checked~div.sk-toggleable__content {max-height: 200px;max-width: 100%;overflow: auto;}#sk-container-id-8 input.sk-toggleable__control:checked~label.sk-toggleable__label-arrow:before {content: \"▾\";}#sk-container-id-8 div.sk-estimator input.sk-toggleable__control:checked~label.sk-toggleable__label {background-color: #d4ebff;}#sk-container-id-8 div.sk-label input.sk-toggleable__control:checked~label.sk-toggleable__label {background-color: #d4ebff;}#sk-container-id-8 input.sk-hidden--visually {border: 0;clip: rect(1px 1px 1px 1px);clip: rect(1px, 1px, 1px, 1px);height: 1px;margin: -1px;overflow: hidden;padding: 0;position: absolute;width: 1px;}#sk-container-id-8 div.sk-estimator {font-family: monospace;background-color: #f0f8ff;border: 1px dotted black;border-radius: 0.25em;box-sizing: border-box;margin-bottom: 0.5em;}#sk-container-id-8 div.sk-estimator:hover {background-color: #d4ebff;}#sk-container-id-8 div.sk-parallel-item::after {content: \"\";width: 100%;border-bottom: 1px solid gray;flex-grow: 1;}#sk-container-id-8 div.sk-label:hover label.sk-toggleable__label {background-color: #d4ebff;}#sk-container-id-8 div.sk-serial::before {content: \"\";position: absolute;border-left: 1px solid gray;box-sizing: border-box;top: 0;bottom: 0;left: 50%;z-index: 0;}#sk-container-id-8 div.sk-serial {display: flex;flex-direction: column;align-items: center;background-color: white;padding-right: 0.2em;padding-left: 0.2em;position: relative;}#sk-container-id-8 div.sk-item {position: relative;z-index: 1;}#sk-container-id-8 div.sk-parallel {display: flex;align-items: stretch;justify-content: center;background-color: white;position: relative;}#sk-container-id-8 div.sk-item::before, #sk-container-id-8 div.sk-parallel-item::before {content: \"\";position: absolute;border-left: 1px solid gray;box-sizing: border-box;top: 0;bottom: 0;left: 50%;z-index: -1;}#sk-container-id-8 div.sk-parallel-item {display: flex;flex-direction: column;z-index: 1;position: relative;background-color: white;}#sk-container-id-8 div.sk-parallel-item:first-child::after {align-self: flex-end;width: 50%;}#sk-container-id-8 div.sk-parallel-item:last-child::after {align-self: flex-start;width: 50%;}#sk-container-id-8 div.sk-parallel-item:only-child::after {width: 0;}#sk-container-id-8 div.sk-dashed-wrapped {border: 1px dashed gray;margin: 0 0.4em 0.5em 0.4em;box-sizing: border-box;padding-bottom: 0.4em;background-color: white;}#sk-container-id-8 div.sk-label label {font-family: monospace;font-weight: bold;display: inline-block;line-height: 1.2em;}#sk-container-id-8 div.sk-label-container {text-align: center;}#sk-container-id-8 div.sk-container {/* jupyter's `normalize.less` sets `[hidden] { display: none; }` but bootstrap.min.css set `[hidden] { display: none !important; }` so we also need the `!important` here to be able to override the default hidden behavior on the sphinx rendered scikit-learn.org. See: https://github.com/scikit-learn/scikit-learn/issues/21755 */display: inline-block !important;position: relative;}#sk-container-id-8 div.sk-text-repr-fallback {display: none;}</style><div id=\"sk-container-id-8\" class=\"sk-top-container\"><div class=\"sk-text-repr-fallback\"><pre>DecisionTreeClassifier(max_depth=3)</pre><b>In a Jupyter environment, please rerun this cell to show the HTML representation or trust the notebook. <br />On GitHub, the HTML representation is unable to render, please try loading this page with nbviewer.org.</b></div><div class=\"sk-container\" hidden><div class=\"sk-item\"><div class=\"sk-estimator sk-toggleable\"><input class=\"sk-toggleable__control sk-hidden--visually\" id=\"sk-estimator-id-10\" type=\"checkbox\" checked><label for=\"sk-estimator-id-10\" class=\"sk-toggleable__label sk-toggleable__label-arrow\">DecisionTreeClassifier</label><div class=\"sk-toggleable__content\"><pre>DecisionTreeClassifier(max_depth=3)</pre></div></div></div></div></div>"
      ],
      "text/plain": [
       "DecisionTreeClassifier(max_depth=3)"
      ]
     },
     "execution_count": 112,
     "metadata": {},
     "output_type": "execute_result"
    }
   ],
   "source": [
    "# Import tree from sklearn model\n",
    "from sklearn import tree\n",
    "\n",
    "# Train tree for the classifier at max_depth=3\n",
    "clftree = tree.DecisionTreeClassifier(max_depth = 3)\n",
    "\n",
    "# Fit classifier tree with train datasets\n",
    "clftree.fit(x_train_scaler, y_train)"
   ]
  },
  {
   "cell_type": "code",
   "execution_count": 113,
   "id": "9baf784b",
   "metadata": {},
   "outputs": [],
   "source": [
    "# Import Image from IPython.display model\n",
    "from IPython.display import Image  \n",
    "\n",
    "# Import pydotplus\n",
    "import pydotplus "
   ]
  },
  {
   "cell_type": "code",
   "execution_count": 114,
   "id": "27c89277",
   "metadata": {},
   "outputs": [],
   "source": [
    "# export graphviz for tree with some defined parameters\n",
    "dot_data = tree.export_graphviz(clftree, out_file=None, feature_names=x_train.columns, filled = True)"
   ]
  },
  {
   "cell_type": "code",
   "execution_count": 115,
   "id": "fc052ba6",
   "metadata": {},
   "outputs": [
    {
     "data": {
      "image/png": "[encoded data removed]",
      "text/plain": [
       "<IPython.core.display.Image object>"
      ]
     },
     "execution_count": 115,
     "metadata": {},
     "output_type": "execute_result"
    }
   ],
   "source": [
    "# Generate the graph from the dot data using pydotplus\n",
    "clf_graph = pydotplus.graph_from_dot_data(dot_data)\n",
    "\n",
    "# Display the graph as a PNG image using IPython's Image class\n",
    "Image(clf_graph.create_png())"
   ]
  },
  {
   "cell_type": "code",
   "execution_count": 116,
   "id": "682b3480",
   "metadata": {},
   "outputs": [],
   "source": [
    "# Predict the target variable for the train and test dataset for classification dicison tree\n",
    "clftree_y_train_pred = clftree.predict(x_train_scaler)\n",
    "clftree_y_test_pred = clftree.predict(x_test_scaler)"
   ]
  },
  {
   "cell_type": "markdown",
   "id": "bb9406f4",
   "metadata": {},
   "source": [
    "##### 2.2.6.2 Performance evaluation for Classification Decision Tree\n",
    "##### 2.2.6.2.1 Calculation of MSE for train and test dataset "
   ]
  },
  {
   "cell_type": "code",
   "execution_count": 117,
   "id": "c748d20e",
   "metadata": {},
   "outputs": [
    {
     "name": "stdout",
     "output_type": "stream",
     "text": [
      "1.964599488889797e-06\n"
     ]
    }
   ],
   "source": [
    "# Calculate mean squared error for training dataset of classification dicision tree\n",
    "clftree_train_mse = mean_squared_error(y_train, clftree_y_train_pred)\n",
    "\n",
    "# Print \"MSE\" of train dataset of classification dicision tree\n",
    "print(clftree_train_mse) "
   ]
  },
  {
   "cell_type": "code",
   "execution_count": 118,
   "id": "ff38414d",
   "metadata": {},
   "outputs": [
    {
     "name": "stdout",
     "output_type": "stream",
     "text": [
      "3.1433591822236754e-06\n"
     ]
    }
   ],
   "source": [
    "# Calculate mean squared error for testing dataset of classification dicision tree\n",
    "clftree_test_mse = mean_squared_error(y_test, clftree_y_test_pred)\n",
    "\n",
    "# Print \"MSE\" of test dataset of classification dicision tree\n",
    "print(clftree_test_mse) "
   ]
  },
  {
   "cell_type": "markdown",
   "id": "61b5f300",
   "metadata": {},
   "source": [
    "##### 2.2.6.2.2 Calculation of MAE for train and test dataset "
   ]
  },
  {
   "cell_type": "code",
   "execution_count": 119,
   "id": "70711567",
   "metadata": {},
   "outputs": [
    {
     "name": "stdout",
     "output_type": "stream",
     "text": [
      "1.964599488889797e-06\n"
     ]
    }
   ],
   "source": [
    "# Calculate mean absolute error for training dataset of classification dicision tree\n",
    "clftree_train_mae = mean_absolute_error(y_train, clftree_y_train_pred)\n",
    "\n",
    "# Print \"MAE\" of train dataset of classification dicision tree\n",
    "print(clftree_train_mae)"
   ]
  },
  {
   "cell_type": "code",
   "execution_count": 120,
   "id": "21c60cd8",
   "metadata": {},
   "outputs": [
    {
     "name": "stdout",
     "output_type": "stream",
     "text": [
      "3.1433591822236754e-06\n"
     ]
    }
   ],
   "source": [
    "# Calculate mean absolute error for testing dataset of classification dicision tree\n",
    "clftree_test_mae = mean_absolute_error(y_test, clftree_y_test_pred)\n",
    "\n",
    "# Print \"MAE\" of test dataset of classification dicision tree\n",
    "print(clftree_test_mae)"
   ]
  },
  {
   "cell_type": "markdown",
   "id": "fb0b8bd2",
   "metadata": {},
   "source": [
    "##### 2.2.6.2.3 Calculation of confusion matrix for train and test dataset "
   ]
  },
  {
   "cell_type": "code",
   "execution_count": 121,
   "id": "f69a0abf",
   "metadata": {},
   "outputs": [
    {
     "name": "stdout",
     "output_type": "stream",
     "text": [
      "[[5090085       0]\n",
      " [     10       1]]\n"
     ]
    }
   ],
   "source": [
    "# Confusion matrix calculation for train dataset of classification dicision tree\n",
    "clftree_train_conf_mat = confusion_matrix(y_train, clftree_y_train_pred)\n",
    "\n",
    "# Print confusion matrix of train dataset of classification dicision tree\n",
    "print(clftree_train_conf_mat)"
   ]
  },
  {
   "cell_type": "code",
   "execution_count": 122,
   "id": "e9bb0ae9",
   "metadata": {},
   "outputs": [
    {
     "name": "stdout",
     "output_type": "stream",
     "text": [
      "[[1272519       0]\n",
      " [      4       1]]\n"
     ]
    }
   ],
   "source": [
    "# Confusion matrix calculation for test dataset of classification dicision tree\n",
    "clftree_test_conf_mat = confusion_matrix(y_test, clftree_y_test_pred)\n",
    "\n",
    "# Print confusion matrix of test dataset of classification dicision tree\n",
    "print(clftree_test_conf_mat)"
   ]
  },
  {
   "cell_type": "markdown",
   "id": "df01c8d1",
   "metadata": {},
   "source": [
    "##### 2.2.6.2.4 Calculation of accuracy score for train and test dataset "
   ]
  },
  {
   "cell_type": "code",
   "execution_count": 123,
   "id": "0718e996",
   "metadata": {},
   "outputs": [
    {
     "name": "stdout",
     "output_type": "stream",
     "text": [
      "0.9999980354005111\n"
     ]
    }
   ],
   "source": [
    "# accuracy score calculation for the train dataset's for actual values (y_train) and predicted values (clftree_y_train_pred)\n",
    "clftree_train_acc_score = accuracy_score(y_train, clftree_y_train_pred)\n",
    "\n",
    "# Print accuracy score of train dataset of classification dicision tree\n",
    "print(clftree_train_acc_score)"
   ]
  },
  {
   "cell_type": "code",
   "execution_count": 124,
   "id": "5660281f",
   "metadata": {},
   "outputs": [
    {
     "name": "stdout",
     "output_type": "stream",
     "text": [
      "0.9999968566408177\n"
     ]
    }
   ],
   "source": [
    "# accuracy score calculation for the test dataset's for actual values (y_test) and predicted values (clftree_y_test_pred)\n",
    "clftree_test_acc_score = accuracy_score(y_test, clftree_y_test_pred)\n",
    "\n",
    "# Print accuracy score of test dataset of classification dicision tree\n",
    "print(clftree_test_acc_score)"
   ]
  },
  {
   "cell_type": "markdown",
   "id": "35c583f1",
   "metadata": {},
   "source": [
    "##### 2.2.6.2.5 Checking for overfitting and underfitting "
   ]
  },
  {
   "cell_type": "code",
   "execution_count": 125,
   "id": "503d63d6",
   "metadata": {},
   "outputs": [
    {
     "name": "stdout",
     "output_type": "stream",
     "text": [
      "The 'Classification Decision Tree' trained model is Well-fitted.\n"
     ]
    }
   ],
   "source": [
    "# Check for overfitting\n",
    "if clftree_train_acc_score > clftree_test_acc_score + 0.15:  # Example threshold for overfitting\n",
    "    print(\"The 'Classification Decision Tree' trained model is overfitting.\")\n",
    "elif clftree_train_acc_score < clftree_test_acc_score - 0.15:  # Example threshold for underfitting\n",
    "    print(\"The 'Classification Decision Tree' trained model is underfitting.\")\n",
    "else:\n",
    "    print(\"The 'Classification Decision Tree' trained model is Well-fitted.\")"
   ]
  },
  {
   "cell_type": "markdown",
   "id": "93d3b5a3",
   "metadata": {},
   "source": [
    "### Comparision of machine learning models used to train model for predicting salary"
   ]
  },
  {
   "cell_type": "code",
   "execution_count": 126,
   "id": "46549f16",
   "metadata": {},
   "outputs": [
    {
     "name": "stdout",
     "output_type": "stream",
     "text": [
      "                          Model  MSE_of_training  MSE_of_testing  \\\n",
      "0           Logistic Regression         0.000002        0.000004   \n",
      "1  Linear Discriminant Analysis         0.001289        0.001286   \n",
      "2                       Bagging         0.000002        0.000003   \n",
      "3                 Random Forest         0.000002        0.000004   \n",
      "4             Gradient Boosting         0.000022        0.000024   \n",
      "5                     Ada boost         0.000002        0.000004   \n",
      "6                      XG Boost         0.000002        0.000004   \n",
      "7  Classification Decision Tree         0.000002        0.000003   \n",
      "\n",
      "   MAE_of_training  MAE_of_testing  accuracy_score_training  \\\n",
      "0         0.000002        0.000004                 0.999998   \n",
      "1         0.001289        0.001286                 0.998711   \n",
      "2         0.000002        0.000003                 0.999998   \n",
      "3         0.000002        0.000004                 0.999998   \n",
      "4         0.000022        0.000024                 0.999978   \n",
      "5         0.000002        0.000004                 0.999998   \n",
      "6         0.000002        0.000004                 0.999998   \n",
      "7         0.000002        0.000003                 0.999998   \n",
      "\n",
      "   accuracy_score_testing  accuracy_score_difference Fitting_Status  \n",
      "0                0.999996                   0.000002    Well-fitted  \n",
      "1                0.998714                   0.000003    Well-fitted  \n",
      "2                0.999997                   0.000001    Well-fitted  \n",
      "3                0.999996                   0.000002    Well-fitted  \n",
      "4                0.999976                   0.000002    Well-fitted  \n",
      "5                0.999996                   0.000002    Well-fitted  \n",
      "6                0.999996                   0.000002    Well-fitted  \n",
      "7                0.999997                   0.000001    Well-fitted  \n"
     ]
    }
   ],
   "source": [
    "# Function to determine fitting status\n",
    "def determine_fitting_status(train_r2, test_r2, threshold=0.15):\n",
    "    if train_r2 > test_r2 + threshold:\n",
    "        return \"Overfitting\"\n",
    "    elif train_r2 < test_r2 - threshold:\n",
    "        return \"Underfitting\"\n",
    "    else:\n",
    "        return \"Well-fitted\"\n",
    "\n",
    "# Data for the table\n",
    "data = {\n",
    "    \"Model\": [\"Logistic Regression\", \"Linear Discriminant Analysis\",\"Bagging\", \"Random Forest\", \"Gradient Boosting\",\n",
    "              \"Ada boost\", \"XG Boost\", \"Classification Decision Tree\"],\n",
    "    \n",
    "    \"MSE_of_training\": [LR_train_mse, LDA_train_mse, Bagging_train_mse, RF_train_mse, GB_train_mse, Ada_train_mse, \n",
    "                        Xgb_train_mse, clftree_train_mse],\n",
    "    \n",
    "    \"MSE_of_testing\": [LR_test_mse, LDA_test_mse, Bagging_test_mse, RF_test_mse, GB_test_mse, Ada_test_mse, \n",
    "                       Xgb_test_mse, clftree_test_mse],\n",
    "    \n",
    "    \"MAE_of_training\": [LR_train_mae, LDA_train_mae, Bagging_train_mae, RF_train_mae, GB_train_mae, Ada_train_mae, \n",
    "                        Xgb_train_mae, clftree_train_mae],\n",
    "    \n",
    "    \"MAE_of_testing\": [LR_test_mae, LDA_test_mae, Bagging_test_mae, RF_test_mae, GB_test_mae, Ada_test_mae, \n",
    "                       Xgb_test_mae, clftree_test_mse],\n",
    "    \n",
    "    \"accuracy_score_training\": [LR_train_acc_score, LDA_train_acc_score, Bagging_train_acc_score, RF_train_acc_score, \n",
    "                                GB_train_acc_score, Ada_train_acc_score, Xgb_train_acc_score, clftree_train_acc_score],\n",
    "    \n",
    "    \"accuracy_score_testing\": [LR_test_acc_score, LDA_test_acc_score, Bagging_test_acc_score, RF_test_acc_score, \n",
    "                               GB_test_acc_score, Ada_test_acc_score, Xgb_test_acc_score, clftree_test_acc_score]}\n",
    "\n",
    "# Calculate accuracy_score differences\n",
    "data[\"accuracy_score_difference\"] = [abs(train-test) for train, test in zip(data[\"accuracy_score_training\"],\n",
    "                                                                            data[\"accuracy_score_testing\"])]\n",
    "\n",
    "# Determine fitting status for each model\n",
    "fitting_status = [determine_fitting_status(train_r2, test_r2) for train_r2, test_r2 in zip(data[\"accuracy_score_training\"], \n",
    "                                                                                           data[\"accuracy_score_testing\"])]\n",
    "\n",
    "# Add fitting status to data\n",
    "data[\"Fitting_Status\"] = fitting_status\n",
    "\n",
    "df = pd.DataFrame(data)  # Create DataFrame\n",
    "print(df) # Display the table"
   ]
  },
  {
   "cell_type": "markdown",
   "id": "b0f7785f",
   "metadata": {},
   "source": [
    "## Which model’s performance is best and what could be the possible reason for that?"
   ]
  },
  {
   "cell_type": "code",
   "execution_count": 127,
   "id": "636dec2e",
   "metadata": {},
   "outputs": [
    {
     "name": "stdout",
     "output_type": "stream",
     "text": [
      "Model                            Bagging\n",
      "MSE_of_training                 0.000002\n",
      "MSE_of_testing                  0.000003\n",
      "MAE_of_training                 0.000002\n",
      "MAE_of_testing                  0.000003\n",
      "accuracy_score_training         0.999998\n",
      "accuracy_score_testing          0.999997\n",
      "accuracy_score_difference       0.000001\n",
      "Fitting_Status               Well-fitted\n",
      "Name: 2, dtype: object\n"
     ]
    }
   ],
   "source": [
    "# Find the row with the minimum accuracy score difference\n",
    "min_r2_diff_index = df[\"accuracy_score_difference\"].idxmin()\n",
    "min_r2_diff_row = df.loc[min_r2_diff_index]\n",
    "\n",
    "# Display the entire row with minimum accuracy score difference\n",
    "print(min_r2_diff_row)"
   ]
  },
  {
   "cell_type": "markdown",
   "id": "53d8a7e9",
   "metadata": {},
   "source": [
    "After evaluating eight possible classification models, the **Bagging** showed the best performance as its accuracy score difference value is less in compare to other seven possible classification models.\n",
    "\n",
    "- A Bagging Classifier, short for Bootstrap Aggregating Classifier, is an ensemble learning method designed to improve the stability and accuracy of machine learning algorithms. It is particularly useful for reducing variance and avoiding overfitting.\n",
    "\n",
    "**Key Advantages**\n",
    "- **Reduction in Variance:** By averaging the predictions of multiple models, bagging reduces the model's variance, leading to more robust and reliable predictions.\n",
    "- **Improved Accuracy:** The ensemble of models often performs better than any individual model due to the aggregation of multiple perspectives.\n",
    "- **Resilience to Overfitting:** Especially effective with high-variance models like decision trees, bagging helps prevent overfitting by smoothing out the model's predictions."
   ]
  },
  {
   "cell_type": "markdown",
   "id": "34514f26",
   "metadata": {},
   "source": [
    "### Q5. What are the key factors that predict fraudulent customer?\n",
    "Key factors that predict fraudulent transactions often include the **transaction amount**, with unusually high or low amounts being indicative of potential fraud. **Changes in account balances** before and after transactions are also critical, as **sudden or unexpected balance changes** can signal fraudulent activity. The **type of transaction**, such as cash out or transfer, might be more susceptible to fraud compared to regular payments.\n",
    "\n",
    "### Q6. Do these factors make sense? If yes, How? If not, How not?\n",
    "- **Transaction Amount:** Fraudulent transactions often involve amounts that deviate significantly from normal patterns, either being unusually high or unusually low.\n",
    "\n",
    "- **Balance Changes:** Large and unexpected changes in account balances, both for the origin and destination accounts, can indicate fraudulent activity. For example, an account balance dropping to zero or close to zero right after a transaction is suspicious.\n",
    "\n",
    "- **Transaction Type:** Certain types of transactions are more prone to fraud. For example, cash-out and transfer transactions are more likely to be fraudulent compared to regular payments, as they can immediately remove money from the account.\n",
    "\n",
    "- **Frequency of Transactions:** A high frequency of transactions within a short period can indicate fraud, as fraudsters often try to move money quickly before being detected.\n",
    "\n",
    "### Q7. What kind of prevention should be adopted while company update its infrastructure?\n",
    "To effectively prevent and manage fraudulent transactions, companies should implement a multifaceted approach that combines technology, processes, and humans:\n",
    "\n",
    "**1) Advanced Fraud Detection Systems:**\n",
    "- **Machine Learning Models:** Utilize machine learning algorithms to detect unusual patterns in transaction data that may indicate fraud.\n",
    "- **Real-time Monitoring:** Implement systems for real-time transaction monitoring to quickly identify and flag suspicious activities.\n",
    "\n",
    "**2) Multi-Factor Authentication (MFA):**\n",
    "- **Authentication Layers:** Require multiple forms of verification (password, biometric scan, SMS code) for transaction approval to enhance security.\n",
    "\n",
    "**3) Behavioral Analytics:**\n",
    "- **User Behavior Profiling:** Monitor and analyze user behavior with the transactaction history to establish baseline patterns, making it easier to detect fraudulent activity.\n",
    "\n",
    "**4) Transaction Limits:**\n",
    "- **Limits on Transactions:** Set thresholds for transaction amounts and frequencies to limit potential fraud exposure.\n",
    "\n",
    "**5) Strong Encryption:**\n",
    "- **Data Encryption:** Ensure that sensitive data is encrypted both at rest and in transit to protect it from unauthorized access.\n",
    "\n",
    "**6) Regular Audits:**\n",
    "- **Internal Audits:** Conduct regular internal audits to identify and address potential vulnerabilities and ensure adherence to security protocols.\n",
    "\n",
    "**7) Employee Training and Awareness:**\n",
    "- **Fraud Awareness Programs:** Train employees on recognizing and responding to potential fraud attempts and maintaining vigilance.\n",
    "- **Incident Reporting:** Establish clear procedures for reporting suspicious activities internally.\n",
    "\n",
    "**8) Customer Education:**\n",
    "- **Awareness Campaigns:** Educate customers about common fraud schemes and encourage them to report any suspicious activities immediately.\n",
    "- **Secure Practices:** Advise customers on best practices for securing their accounts, such as using strong-complex passwords.\n",
    "\n",
    "**9) Collaboration with Financial Institutions:**\n",
    "- **Information Sharing:** Collaborate with banks, financial institutions, and regulatory bodies to share information about emerging fraud trends and tactics.\n",
    "\n",
    "By integrating these strategies, companies can create a robust defense against fraudulent transactions, protecting their assets and maintaining customer trust.\n",
    "\n",
    "### Q8. Assuming these actions have been implemented, how would you determine if they work?\n",
    "I used machine learning to train a model for detecting fraudulent transactions (isflaggedfraud). \n",
    "If the models I have trained are implemented in an advanced fraud detection system, the process will work as follows: \n",
    "- For every suspicious transaction detected after Multi-Factor Authentication in real-time, a popup notification will flag it on the customer's screen as a fraudulent transaction. \n",
    "- The system will inform banks and financial institutions with which we have collaborations, so they can take appropriate action. \n",
    "- As part of employee training and awareness, the system will inform the customer service team to connect with customers, warning them about the fraudulent transactions that might have occurred in the past. \n",
    "\n",
    "By implementing these processes, we aim to handle fraud detection and response in real-time."
   ]
  },
  {
   "cell_type": "code",
   "execution_count": 128,
   "id": "8c0ddbb9",
   "metadata": {},
   "outputs": [
    {
     "name": "stdout",
     "output_type": "stream",
     "text": [
      "Execution time: 2078.7129650115967 seconds\n"
     ]
    }
   ],
   "source": [
    "# End time\n",
    "end_time = time.time()\n",
    "\n",
    "# Calculate and print execution time\n",
    "execution_time = end_time - start_time\n",
    "print(f\"Execution time: {execution_time} seconds\")  # ptint execution time in second"
   ]
  },
  {
   "cell_type": "markdown",
   "id": "2b62fb7b",
   "metadata": {},
   "source": [
    "### Check for the execustion time for this notebook in bottom of the page\n",
    "#### 2078.7129650115967 seconds approx"
   ]
  },
  {
   "cell_type": "code",
   "execution_count": null,
   "id": "d22b000a",
   "metadata": {},
   "outputs": [],
   "source": []
  }
 ],
 "metadata": {
  "kernelspec": {
   "display_name": "Python 3 (ipykernel)",
   "language": "python",
   "name": "python3"
  },
  "language_info": {
   "codemirror_mode": {
    "name": "ipython",
    "version": 3
   },
   "file_extension": ".py",
   "mimetype": "text/x-python",
   "name": "python",
   "nbconvert_exporter": "python",
   "pygments_lexer": "ipython3",
   "version": "3.11.7"
  }
 },
 "nbformat": 4,
 "nbformat_minor": 5
}
